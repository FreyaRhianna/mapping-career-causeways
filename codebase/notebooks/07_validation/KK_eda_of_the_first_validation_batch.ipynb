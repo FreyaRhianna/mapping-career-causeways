{
 "cells": [
  {
   "cell_type": "markdown",
   "metadata": {},
   "source": [
    "# Exploration of the validation results"
   ]
  },
  {
   "cell_type": "markdown",
   "metadata": {},
   "source": [
    "# 0. Import dependencies and inputs"
   ]
  },
  {
   "cell_type": "code",
   "execution_count": 122,
   "metadata": {},
   "outputs": [],
   "source": [
    "%run ../notebook_preamble.ipy\n",
    "\n",
    "# First batch of transitions\n",
    "val_trans = pd.read_csv(data_folder + 'processed/validation/Transitions_to_validate_BATCH_1.csv')\n",
    "\n",
    "# Validations results of the first batch\n",
    "path_to_val_data = data_folder + 'restricted/validation/nesta_output_16Dec.csv'\n",
    "val_data = pd.read_csv(path_to_val_data)\n",
    "\n",
    "# Similarity matrices\n",
    "sims = load_data.Similarities()\n"
   ]
  },
  {
   "cell_type": "code",
   "execution_count": 123,
   "metadata": {},
   "outputs": [
    {
     "name": "stdout",
     "output_type": "stream",
     "text": [
      "<class 'pandas.core.frame.DataFrame'>\n",
      "RangeIndex: 38334 entries, 0 to 38333\n",
      "Data columns (total 22 columns):\n",
      " #   Column                            Non-Null Count  Dtype \n",
      "---  ------                            --------------  ----- \n",
      " 0   classification_id                 38334 non-null  int64 \n",
      " 1   subject_ids                       38334 non-null  int64 \n",
      " 2   origin_id                         38334 non-null  int64 \n",
      " 3   origin_label                      38334 non-null  object\n",
      " 4   origin_description                38334 non-null  object\n",
      " 5   destination_id                    38334 non-null  int64 \n",
      " 6   destination_label                 38334 non-null  object\n",
      " 7   destination_description           38334 non-null  object\n",
      " 8   perfectly_matched_skills          33496 non-null  object\n",
      " 9   partially_matched_skills          33288 non-null  object\n",
      " 10  unmatched_skills                  38076 non-null  object\n",
      " 11  familiarity_with_origin_1-5       38334 non-null  int64 \n",
      " 12  familiarity_with_destination_1-5  38334 non-null  int64 \n",
      " 13  feasibility_1-5                   38334 non-null  int64 \n",
      " 14  Reasons                           38334 non-null  object\n",
      " 15  coder_id                          38334 non-null  object\n",
      " 16  questionable_respondant_flag      38334 non-null  bool  \n",
      " 17  year_of_birth                     38334 non-null  int64 \n",
      " 18  gender                            38334 non-null  object\n",
      " 19  background                        38334 non-null  object\n",
      " 20  highest_qualification             38334 non-null  object\n",
      " 21  nation                            38334 non-null  object\n",
      "dtypes: bool(1), int64(8), object(13)\n",
      "memory usage: 6.2+ MB\n"
     ]
    }
   ],
   "source": [
    "val_data.info()"
   ]
  },
  {
   "cell_type": "markdown",
   "metadata": {},
   "source": [
    "# 1. Check the dataset"
   ]
  },
  {
   "cell_type": "code",
   "execution_count": 124,
   "metadata": {},
   "outputs": [
    {
     "data": {
      "text/html": [
       "<div>\n",
       "<style scoped>\n",
       "    .dataframe tbody tr th:only-of-type {\n",
       "        vertical-align: middle;\n",
       "    }\n",
       "\n",
       "    .dataframe tbody tr th {\n",
       "        vertical-align: top;\n",
       "    }\n",
       "\n",
       "    .dataframe thead th {\n",
       "        text-align: right;\n",
       "    }\n",
       "</style>\n",
       "<table border=\"1\" class=\"dataframe\">\n",
       "  <thead>\n",
       "    <tr style=\"text-align: right;\">\n",
       "      <th></th>\n",
       "      <th>classification_id</th>\n",
       "      <th>subject_ids</th>\n",
       "      <th>origin_id</th>\n",
       "      <th>origin_label</th>\n",
       "      <th>origin_description</th>\n",
       "      <th>destination_id</th>\n",
       "      <th>destination_label</th>\n",
       "      <th>destination_description</th>\n",
       "      <th>perfectly_matched_skills</th>\n",
       "      <th>partially_matched_skills</th>\n",
       "      <th>...</th>\n",
       "      <th>familiarity_with_destination_1-5</th>\n",
       "      <th>feasibility_1-5</th>\n",
       "      <th>Reasons</th>\n",
       "      <th>coder_id</th>\n",
       "      <th>questionable_respondant_flag</th>\n",
       "      <th>year_of_birth</th>\n",
       "      <th>gender</th>\n",
       "      <th>background</th>\n",
       "      <th>highest_qualification</th>\n",
       "      <th>nation</th>\n",
       "    </tr>\n",
       "  </thead>\n",
       "  <tbody>\n",
       "    <tr>\n",
       "      <th>0</th>\n",
       "      <td>289643147</td>\n",
       "      <td>52451278</td>\n",
       "      <td>29</td>\n",
       "      <td>legal guardian</td>\n",
       "      <td>Legal guardians legally assist and support min...</td>\n",
       "      <td>2654</td>\n",
       "      <td>employment and vocational integration consultant</td>\n",
       "      <td>Employment and vocational integration consulta...</td>\n",
       "      <td>give advice on personal matters; listen actively</td>\n",
       "      <td>facilitate job market access; develop course o...</td>\n",
       "      <td>...</td>\n",
       "      <td>2</td>\n",
       "      <td>3</td>\n",
       "      <td>**Qualifications** - different qualification r...</td>\n",
       "      <td>566802cf6d9c32c4b9d6</td>\n",
       "      <td>False</td>\n",
       "      <td>1994</td>\n",
       "      <td>Male</td>\n",
       "      <td>['Education','Healthcare']</td>\n",
       "      <td>Master'degree</td>\n",
       "      <td>England</td>\n",
       "    </tr>\n",
       "    <tr>\n",
       "      <th>1</th>\n",
       "      <td>289715915</td>\n",
       "      <td>52451278</td>\n",
       "      <td>29</td>\n",
       "      <td>legal guardian</td>\n",
       "      <td>Legal guardians legally assist and support min...</td>\n",
       "      <td>2654</td>\n",
       "      <td>employment and vocational integration consultant</td>\n",
       "      <td>Employment and vocational integration consulta...</td>\n",
       "      <td>give advice on personal matters; listen actively</td>\n",
       "      <td>facilitate job market access; develop course o...</td>\n",
       "      <td>...</td>\n",
       "      <td>3</td>\n",
       "      <td>3</td>\n",
       "      <td>**Skills** - poor skills overlap, missing esse...</td>\n",
       "      <td>dfaa44417fdef5173766</td>\n",
       "      <td>False</td>\n",
       "      <td>1967</td>\n",
       "      <td>Female</td>\n",
       "      <td>['Healthcare', 'Sales and services']</td>\n",
       "      <td>Bachelor's degree</td>\n",
       "      <td>Scotland</td>\n",
       "    </tr>\n",
       "    <tr>\n",
       "      <th>2</th>\n",
       "      <td>289776880</td>\n",
       "      <td>52451278</td>\n",
       "      <td>29</td>\n",
       "      <td>legal guardian</td>\n",
       "      <td>Legal guardians legally assist and support min...</td>\n",
       "      <td>2654</td>\n",
       "      <td>employment and vocational integration consultant</td>\n",
       "      <td>Employment and vocational integration consulta...</td>\n",
       "      <td>give advice on personal matters; listen actively</td>\n",
       "      <td>facilitate job market access; develop course o...</td>\n",
       "      <td>...</td>\n",
       "      <td>1</td>\n",
       "      <td>2</td>\n",
       "      <td>**Skills** - poor skills overlap, missing esse...</td>\n",
       "      <td>b929c3beb0e7ffb1ea4a</td>\n",
       "      <td>False</td>\n",
       "      <td>1984</td>\n",
       "      <td>Male</td>\n",
       "      <td>['Education','Engineering and research']</td>\n",
       "      <td>Doctorate</td>\n",
       "      <td>England</td>\n",
       "    </tr>\n",
       "    <tr>\n",
       "      <th>3</th>\n",
       "      <td>289806895</td>\n",
       "      <td>52451278</td>\n",
       "      <td>29</td>\n",
       "      <td>legal guardian</td>\n",
       "      <td>Legal guardians legally assist and support min...</td>\n",
       "      <td>2654</td>\n",
       "      <td>employment and vocational integration consultant</td>\n",
       "      <td>Employment and vocational integration consulta...</td>\n",
       "      <td>give advice on personal matters; listen actively</td>\n",
       "      <td>facilitate job market access; develop course o...</td>\n",
       "      <td>...</td>\n",
       "      <td>4</td>\n",
       "      <td>1</td>\n",
       "      <td>**Qualifications** - different qualification r...</td>\n",
       "      <td>20df3373ab16becb8f2e</td>\n",
       "      <td>False</td>\n",
       "      <td>1987</td>\n",
       "      <td>Male</td>\n",
       "      <td>['Sales and services']</td>\n",
       "      <td>GCSE</td>\n",
       "      <td>Wales</td>\n",
       "    </tr>\n",
       "    <tr>\n",
       "      <th>4</th>\n",
       "      <td>290219173</td>\n",
       "      <td>52451278</td>\n",
       "      <td>29</td>\n",
       "      <td>legal guardian</td>\n",
       "      <td>Legal guardians legally assist and support min...</td>\n",
       "      <td>2654</td>\n",
       "      <td>employment and vocational integration consultant</td>\n",
       "      <td>Employment and vocational integration consulta...</td>\n",
       "      <td>give advice on personal matters; listen actively</td>\n",
       "      <td>facilitate job market access; develop course o...</td>\n",
       "      <td>...</td>\n",
       "      <td>2</td>\n",
       "      <td>2</td>\n",
       "      <td>**Qualifications** - different qualification r...</td>\n",
       "      <td>ef345455b53500fbb303</td>\n",
       "      <td>False</td>\n",
       "      <td>1986</td>\n",
       "      <td>Female</td>\n",
       "      <td>['Business and administration', 'Public sector...</td>\n",
       "      <td>Bachelor's degree</td>\n",
       "      <td>England</td>\n",
       "    </tr>\n",
       "    <tr>\n",
       "      <th>...</th>\n",
       "      <td>...</td>\n",
       "      <td>...</td>\n",
       "      <td>...</td>\n",
       "      <td>...</td>\n",
       "      <td>...</td>\n",
       "      <td>...</td>\n",
       "      <td>...</td>\n",
       "      <td>...</td>\n",
       "      <td>...</td>\n",
       "      <td>...</td>\n",
       "      <td>...</td>\n",
       "      <td>...</td>\n",
       "      <td>...</td>\n",
       "      <td>...</td>\n",
       "      <td>...</td>\n",
       "      <td>...</td>\n",
       "      <td>...</td>\n",
       "      <td>...</td>\n",
       "      <td>...</td>\n",
       "      <td>...</td>\n",
       "      <td>...</td>\n",
       "    </tr>\n",
       "    <tr>\n",
       "      <th>38329</th>\n",
       "      <td>293182077</td>\n",
       "      <td>53137774</td>\n",
       "      <td>2937</td>\n",
       "      <td>demographer</td>\n",
       "      <td>Demographers study a variety of parameters rel...</td>\n",
       "      <td>267</td>\n",
       "      <td>actuarial assistant</td>\n",
       "      <td>Actuarial assistants perform statistical data ...</td>\n",
       "      <td>statistics; apply statistical analysis techniques</td>\n",
       "      <td>NaN</td>\n",
       "      <td>...</td>\n",
       "      <td>1</td>\n",
       "      <td>3</td>\n",
       "      <td>**Skills** - poor skills overlap, missing esse...</td>\n",
       "      <td>e7d2af6fff62ee521731</td>\n",
       "      <td>False</td>\n",
       "      <td>1982</td>\n",
       "      <td>Male</td>\n",
       "      <td>['Healthcare','Public sector and government']</td>\n",
       "      <td>GCSE</td>\n",
       "      <td>England</td>\n",
       "    </tr>\n",
       "    <tr>\n",
       "      <th>38330</th>\n",
       "      <td>293342205</td>\n",
       "      <td>53137774</td>\n",
       "      <td>2937</td>\n",
       "      <td>demographer</td>\n",
       "      <td>Demographers study a variety of parameters rel...</td>\n",
       "      <td>267</td>\n",
       "      <td>actuarial assistant</td>\n",
       "      <td>Actuarial assistants perform statistical data ...</td>\n",
       "      <td>statistics; apply statistical analysis techniques</td>\n",
       "      <td>NaN</td>\n",
       "      <td>...</td>\n",
       "      <td>3</td>\n",
       "      <td>3</td>\n",
       "      <td>**Qualifications** - different qualification r...</td>\n",
       "      <td>301972f25ee678d52c40</td>\n",
       "      <td>True</td>\n",
       "      <td>1994</td>\n",
       "      <td>Male</td>\n",
       "      <td>['Sales and services']</td>\n",
       "      <td>Master's degree</td>\n",
       "      <td>England</td>\n",
       "    </tr>\n",
       "    <tr>\n",
       "      <th>38331</th>\n",
       "      <td>293370399</td>\n",
       "      <td>53137774</td>\n",
       "      <td>2937</td>\n",
       "      <td>demographer</td>\n",
       "      <td>Demographers study a variety of parameters rel...</td>\n",
       "      <td>267</td>\n",
       "      <td>actuarial assistant</td>\n",
       "      <td>Actuarial assistants perform statistical data ...</td>\n",
       "      <td>statistics; apply statistical analysis techniques</td>\n",
       "      <td>NaN</td>\n",
       "      <td>...</td>\n",
       "      <td>2</td>\n",
       "      <td>2</td>\n",
       "      <td>**Qualifications** - different qualification r...</td>\n",
       "      <td>4cfe20b09a5e8abe052a</td>\n",
       "      <td>True</td>\n",
       "      <td>1987</td>\n",
       "      <td>Male</td>\n",
       "      <td>['Arts and media']</td>\n",
       "      <td>Higher National Diploma</td>\n",
       "      <td>Northern Ireland</td>\n",
       "    </tr>\n",
       "    <tr>\n",
       "      <th>38332</th>\n",
       "      <td>293371675</td>\n",
       "      <td>53137774</td>\n",
       "      <td>2937</td>\n",
       "      <td>demographer</td>\n",
       "      <td>Demographers study a variety of parameters rel...</td>\n",
       "      <td>267</td>\n",
       "      <td>actuarial assistant</td>\n",
       "      <td>Actuarial assistants perform statistical data ...</td>\n",
       "      <td>statistics; apply statistical analysis techniques</td>\n",
       "      <td>NaN</td>\n",
       "      <td>...</td>\n",
       "      <td>5</td>\n",
       "      <td>2</td>\n",
       "      <td>**Skills** - poor skills overlap, missing esse...</td>\n",
       "      <td>a33630934d5122edc8cb</td>\n",
       "      <td>False</td>\n",
       "      <td>1996</td>\n",
       "      <td>Male</td>\n",
       "      <td>['Other']</td>\n",
       "      <td>Master's degree</td>\n",
       "      <td>England</td>\n",
       "    </tr>\n",
       "    <tr>\n",
       "      <th>38333</th>\n",
       "      <td>293462859</td>\n",
       "      <td>53137774</td>\n",
       "      <td>2937</td>\n",
       "      <td>demographer</td>\n",
       "      <td>Demographers study a variety of parameters rel...</td>\n",
       "      <td>267</td>\n",
       "      <td>actuarial assistant</td>\n",
       "      <td>Actuarial assistants perform statistical data ...</td>\n",
       "      <td>statistics; apply statistical analysis techniques</td>\n",
       "      <td>NaN</td>\n",
       "      <td>...</td>\n",
       "      <td>4</td>\n",
       "      <td>1</td>\n",
       "      <td>**Qualifications** - different qualification r...</td>\n",
       "      <td>30b1fb752d7b16f8968d</td>\n",
       "      <td>False</td>\n",
       "      <td>1979</td>\n",
       "      <td>Male</td>\n",
       "      <td>['Business and administration', 'ICT']</td>\n",
       "      <td>Bachelor's degree</td>\n",
       "      <td>England</td>\n",
       "    </tr>\n",
       "  </tbody>\n",
       "</table>\n",
       "<p>38334 rows × 22 columns</p>\n",
       "</div>"
      ],
      "text/plain": [
       "       classification_id  subject_ids  origin_id    origin_label  \\\n",
       "0              289643147     52451278         29  legal guardian   \n",
       "1              289715915     52451278         29  legal guardian   \n",
       "2              289776880     52451278         29  legal guardian   \n",
       "3              289806895     52451278         29  legal guardian   \n",
       "4              290219173     52451278         29  legal guardian   \n",
       "...                  ...          ...        ...             ...   \n",
       "38329          293182077     53137774       2937     demographer   \n",
       "38330          293342205     53137774       2937     demographer   \n",
       "38331          293370399     53137774       2937     demographer   \n",
       "38332          293371675     53137774       2937     demographer   \n",
       "38333          293462859     53137774       2937     demographer   \n",
       "\n",
       "                                      origin_description  destination_id  \\\n",
       "0      Legal guardians legally assist and support min...            2654   \n",
       "1      Legal guardians legally assist and support min...            2654   \n",
       "2      Legal guardians legally assist and support min...            2654   \n",
       "3      Legal guardians legally assist and support min...            2654   \n",
       "4      Legal guardians legally assist and support min...            2654   \n",
       "...                                                  ...             ...   \n",
       "38329  Demographers study a variety of parameters rel...             267   \n",
       "38330  Demographers study a variety of parameters rel...             267   \n",
       "38331  Demographers study a variety of parameters rel...             267   \n",
       "38332  Demographers study a variety of parameters rel...             267   \n",
       "38333  Demographers study a variety of parameters rel...             267   \n",
       "\n",
       "                                      destination_label  \\\n",
       "0      employment and vocational integration consultant   \n",
       "1      employment and vocational integration consultant   \n",
       "2      employment and vocational integration consultant   \n",
       "3      employment and vocational integration consultant   \n",
       "4      employment and vocational integration consultant   \n",
       "...                                                 ...   \n",
       "38329                               actuarial assistant   \n",
       "38330                               actuarial assistant   \n",
       "38331                               actuarial assistant   \n",
       "38332                               actuarial assistant   \n",
       "38333                               actuarial assistant   \n",
       "\n",
       "                                 destination_description  \\\n",
       "0      Employment and vocational integration consulta...   \n",
       "1      Employment and vocational integration consulta...   \n",
       "2      Employment and vocational integration consulta...   \n",
       "3      Employment and vocational integration consulta...   \n",
       "4      Employment and vocational integration consulta...   \n",
       "...                                                  ...   \n",
       "38329  Actuarial assistants perform statistical data ...   \n",
       "38330  Actuarial assistants perform statistical data ...   \n",
       "38331  Actuarial assistants perform statistical data ...   \n",
       "38332  Actuarial assistants perform statistical data ...   \n",
       "38333  Actuarial assistants perform statistical data ...   \n",
       "\n",
       "                                perfectly_matched_skills  \\\n",
       "0       give advice on personal matters; listen actively   \n",
       "1       give advice on personal matters; listen actively   \n",
       "2       give advice on personal matters; listen actively   \n",
       "3       give advice on personal matters; listen actively   \n",
       "4       give advice on personal matters; listen actively   \n",
       "...                                                  ...   \n",
       "38329  statistics; apply statistical analysis techniques   \n",
       "38330  statistics; apply statistical analysis techniques   \n",
       "38331  statistics; apply statistical analysis techniques   \n",
       "38332  statistics; apply statistical analysis techniques   \n",
       "38333  statistics; apply statistical analysis techniques   \n",
       "\n",
       "                                partially_matched_skills  ...  \\\n",
       "0      facilitate job market access; develop course o...  ...   \n",
       "1      facilitate job market access; develop course o...  ...   \n",
       "2      facilitate job market access; develop course o...  ...   \n",
       "3      facilitate job market access; develop course o...  ...   \n",
       "4      facilitate job market access; develop course o...  ...   \n",
       "...                                                  ...  ...   \n",
       "38329                                                NaN  ...   \n",
       "38330                                                NaN  ...   \n",
       "38331                                                NaN  ...   \n",
       "38332                                                NaN  ...   \n",
       "38333                                                NaN  ...   \n",
       "\n",
       "      familiarity_with_destination_1-5  feasibility_1-5  \\\n",
       "0                                    2                3   \n",
       "1                                    3                3   \n",
       "2                                    1                2   \n",
       "3                                    4                1   \n",
       "4                                    2                2   \n",
       "...                                ...              ...   \n",
       "38329                                1                3   \n",
       "38330                                3                3   \n",
       "38331                                2                2   \n",
       "38332                                5                2   \n",
       "38333                                4                1   \n",
       "\n",
       "                                                 Reasons  \\\n",
       "0      **Qualifications** - different qualification r...   \n",
       "1      **Skills** - poor skills overlap, missing esse...   \n",
       "2      **Skills** - poor skills overlap, missing esse...   \n",
       "3      **Qualifications** - different qualification r...   \n",
       "4      **Qualifications** - different qualification r...   \n",
       "...                                                  ...   \n",
       "38329  **Skills** - poor skills overlap, missing esse...   \n",
       "38330  **Qualifications** - different qualification r...   \n",
       "38331  **Qualifications** - different qualification r...   \n",
       "38332  **Skills** - poor skills overlap, missing esse...   \n",
       "38333  **Qualifications** - different qualification r...   \n",
       "\n",
       "                   coder_id questionable_respondant_flag year_of_birth  \\\n",
       "0      566802cf6d9c32c4b9d6                        False          1994   \n",
       "1      dfaa44417fdef5173766                        False          1967   \n",
       "2      b929c3beb0e7ffb1ea4a                        False          1984   \n",
       "3      20df3373ab16becb8f2e                        False          1987   \n",
       "4      ef345455b53500fbb303                        False          1986   \n",
       "...                     ...                          ...           ...   \n",
       "38329  e7d2af6fff62ee521731                        False          1982   \n",
       "38330  301972f25ee678d52c40                         True          1994   \n",
       "38331  4cfe20b09a5e8abe052a                         True          1987   \n",
       "38332  a33630934d5122edc8cb                        False          1996   \n",
       "38333  30b1fb752d7b16f8968d                        False          1979   \n",
       "\n",
       "       gender                                         background  \\\n",
       "0        Male                         ['Education','Healthcare']   \n",
       "1      Female               ['Healthcare', 'Sales and services']   \n",
       "2        Male           ['Education','Engineering and research']   \n",
       "3        Male                             ['Sales and services']   \n",
       "4      Female  ['Business and administration', 'Public sector...   \n",
       "...       ...                                                ...   \n",
       "38329    Male      ['Healthcare','Public sector and government']   \n",
       "38330    Male                             ['Sales and services']   \n",
       "38331    Male                                 ['Arts and media']   \n",
       "38332    Male                                          ['Other']   \n",
       "38333    Male             ['Business and administration', 'ICT']   \n",
       "\n",
       "         highest_qualification            nation  \n",
       "0                Master'degree           England  \n",
       "1            Bachelor's degree          Scotland  \n",
       "2                    Doctorate           England  \n",
       "3                         GCSE             Wales  \n",
       "4            Bachelor's degree           England  \n",
       "...                        ...               ...  \n",
       "38329                     GCSE           England  \n",
       "38330          Master's degree           England  \n",
       "38331  Higher National Diploma  Northern Ireland  \n",
       "38332          Master's degree           England  \n",
       "38333        Bachelor's degree           England  \n",
       "\n",
       "[38334 rows x 22 columns]"
      ]
     },
     "execution_count": 124,
     "metadata": {},
     "output_type": "execute_result"
    }
   ],
   "source": [
    "val_data"
   ]
  },
  {
   "cell_type": "code",
   "execution_count": 126,
   "metadata": {},
   "outputs": [
    {
     "name": "stdout",
     "output_type": "stream",
     "text": [
      "**Qualifications** - different qualification required\n",
      "**Skills** - poor skills overlap, missing essential skills, retraining would take too long\n",
      "**Conditions** - compensation of destination job too low, perceived lower quality of work in destination job\n",
      "**Other** - all other reasons\n",
      "**Personal** - big change in working hours, working away from home, undesirable transition\n",
      "**Responsibility** - large change in seniority\n",
      "**Job market** - industry of destination job in decline, destination job is too competitive\n"
     ]
    }
   ],
   "source": [
    "for x in val_data.Reasons.unique(): print(x)"
   ]
  },
  {
   "cell_type": "code",
   "execution_count": 127,
   "metadata": {},
   "outputs": [
    {
     "data": {
      "image/png": "[encoded data removed]",
      "text/plain": [
       "<Figure size 432x288 with 1 Axes>"
      ]
     },
     "metadata": {
      "needs_background": "light"
     },
     "output_type": "display_data"
    }
   ],
   "source": [
    "val_data['feasibility_1-5'].plot.hist()\n",
    "plt.show()"
   ]
  },
  {
   "cell_type": "code",
   "execution_count": 128,
   "metadata": {},
   "outputs": [
    {
     "data": {
      "image/png": "[encoded data removed]",
      "text/plain": [
       "<Figure size 432x288 with 1 Axes>"
      ]
     },
     "metadata": {
      "needs_background": "light"
     },
     "output_type": "display_data"
    }
   ],
   "source": [
    "val_data['familiarity_with_origin_1-5'].plot.hist(bins=5)\n",
    "plt.show()"
   ]
  },
  {
   "cell_type": "code",
   "execution_count": 129,
   "metadata": {},
   "outputs": [
    {
     "data": {
      "image/png": "[encoded data removed]",
      "text/plain": [
       "<Figure size 432x288 with 1 Axes>"
      ]
     },
     "metadata": {
      "needs_background": "light"
     },
     "output_type": "display_data"
    }
   ],
   "source": [
    "val_data['familiarity_with_destination_1-5'].plot.hist(bins=5)\n",
    "plt.show()"
   ]
  },
  {
   "cell_type": "code",
   "execution_count": 130,
   "metadata": {},
   "outputs": [
    {
     "data": {
      "image/png": "[encoded data removed]",
      "text/plain": [
       "<Figure size 432x288 with 1 Axes>"
      ]
     },
     "metadata": {
      "needs_background": "light"
     },
     "output_type": "display_data"
    }
   ],
   "source": [
    "val_data.drop_duplicates('coder_id').year_of_birth.hist()\n",
    "plt.show()"
   ]
  },
  {
   "cell_type": "code",
   "execution_count": 131,
   "metadata": {},
   "outputs": [
    {
     "data": {
      "text/plain": [
       "349"
      ]
     },
     "execution_count": 131,
     "metadata": {},
     "output_type": "execute_result"
    }
   ],
   "source": [
    "# Number of unique coders\n",
    "len(val_data.coder_id.unique())"
   ]
  },
  {
   "cell_type": "code",
   "execution_count": 132,
   "metadata": {},
   "outputs": [
    {
     "data": {
      "text/html": [
       "<div>\n",
       "<style scoped>\n",
       "    .dataframe tbody tr th:only-of-type {\n",
       "        vertical-align: middle;\n",
       "    }\n",
       "\n",
       "    .dataframe tbody tr th {\n",
       "        vertical-align: top;\n",
       "    }\n",
       "\n",
       "    .dataframe thead th {\n",
       "        text-align: right;\n",
       "    }\n",
       "</style>\n",
       "<table border=\"1\" class=\"dataframe\">\n",
       "  <thead>\n",
       "    <tr style=\"text-align: right;\">\n",
       "      <th></th>\n",
       "      <th>coder_id</th>\n",
       "    </tr>\n",
       "    <tr>\n",
       "      <th>gender</th>\n",
       "      <th></th>\n",
       "    </tr>\n",
       "  </thead>\n",
       "  <tbody>\n",
       "    <tr>\n",
       "      <th>Female</th>\n",
       "      <td>139</td>\n",
       "    </tr>\n",
       "    <tr>\n",
       "      <th>Male</th>\n",
       "      <td>208</td>\n",
       "    </tr>\n",
       "    <tr>\n",
       "      <th>Prefer not to say</th>\n",
       "      <td>1</td>\n",
       "    </tr>\n",
       "    <tr>\n",
       "      <th>Prefer to self-describe</th>\n",
       "      <td>1</td>\n",
       "    </tr>\n",
       "  </tbody>\n",
       "</table>\n",
       "</div>"
      ],
      "text/plain": [
       "                         coder_id\n",
       "gender                           \n",
       "Female                        139\n",
       "Male                          208\n",
       "Prefer not to say               1\n",
       "Prefer to self-describe         1"
      ]
     },
     "execution_count": 132,
     "metadata": {},
     "output_type": "execute_result"
    }
   ],
   "source": [
    "coder_df = val_data.drop_duplicates('coder_id')\n",
    "coder_df.groupby('gender').agg({'coder_id': 'count'})"
   ]
  },
  {
   "cell_type": "code",
   "execution_count": 133,
   "metadata": {},
   "outputs": [
    {
     "data": {
      "text/html": [
       "<div>\n",
       "<style scoped>\n",
       "    .dataframe tbody tr th:only-of-type {\n",
       "        vertical-align: middle;\n",
       "    }\n",
       "\n",
       "    .dataframe tbody tr th {\n",
       "        vertical-align: top;\n",
       "    }\n",
       "\n",
       "    .dataframe thead th {\n",
       "        text-align: right;\n",
       "    }\n",
       "</style>\n",
       "<table border=\"1\" class=\"dataframe\">\n",
       "  <thead>\n",
       "    <tr style=\"text-align: right;\">\n",
       "      <th></th>\n",
       "      <th>coder_id</th>\n",
       "    </tr>\n",
       "    <tr>\n",
       "      <th>highest_qualification</th>\n",
       "      <th></th>\n",
       "    </tr>\n",
       "  </thead>\n",
       "  <tbody>\n",
       "    <tr>\n",
       "      <th>A-Level</th>\n",
       "      <td>53</td>\n",
       "    </tr>\n",
       "    <tr>\n",
       "      <th>Bachelor'degree</th>\n",
       "      <td>10</td>\n",
       "    </tr>\n",
       "    <tr>\n",
       "      <th>Bachelor's degree</th>\n",
       "      <td>131</td>\n",
       "    </tr>\n",
       "    <tr>\n",
       "      <th>Doctorate</th>\n",
       "      <td>9</td>\n",
       "    </tr>\n",
       "    <tr>\n",
       "      <th>GCSE</th>\n",
       "      <td>27</td>\n",
       "    </tr>\n",
       "    <tr>\n",
       "      <th>Higher National Certificate</th>\n",
       "      <td>19</td>\n",
       "    </tr>\n",
       "    <tr>\n",
       "      <th>Higher National Diploma</th>\n",
       "      <td>23</td>\n",
       "    </tr>\n",
       "    <tr>\n",
       "      <th>Master'degree</th>\n",
       "      <td>8</td>\n",
       "    </tr>\n",
       "    <tr>\n",
       "      <th>Master's degree</th>\n",
       "      <td>69</td>\n",
       "    </tr>\n",
       "  </tbody>\n",
       "</table>\n",
       "</div>"
      ],
      "text/plain": [
       "                             coder_id\n",
       "highest_qualification                \n",
       "A-Level                            53\n",
       "Bachelor'degree                    10\n",
       "Bachelor's degree                 131\n",
       "Doctorate                           9\n",
       "GCSE                               27\n",
       "Higher National Certificate        19\n",
       "Higher National Diploma            23\n",
       "Master'degree                       8\n",
       "Master's degree                    69"
      ]
     },
     "execution_count": 133,
     "metadata": {},
     "output_type": "execute_result"
    }
   ],
   "source": [
    "coder_df = val_data.drop_duplicates('coder_id')\n",
    "coder_df.groupby('highest_qualification').agg({'coder_id': 'count'})"
   ]
  },
  {
   "cell_type": "code",
   "execution_count": 134,
   "metadata": {},
   "outputs": [
    {
     "data": {
      "text/html": [
       "<div>\n",
       "<style scoped>\n",
       "    .dataframe tbody tr th:only-of-type {\n",
       "        vertical-align: middle;\n",
       "    }\n",
       "\n",
       "    .dataframe tbody tr th {\n",
       "        vertical-align: top;\n",
       "    }\n",
       "\n",
       "    .dataframe thead th {\n",
       "        text-align: right;\n",
       "    }\n",
       "</style>\n",
       "<table border=\"1\" class=\"dataframe\">\n",
       "  <thead>\n",
       "    <tr style=\"text-align: right;\">\n",
       "      <th></th>\n",
       "      <th>coder_id</th>\n",
       "    </tr>\n",
       "    <tr>\n",
       "      <th>questionable_respondant_flag</th>\n",
       "      <th></th>\n",
       "    </tr>\n",
       "  </thead>\n",
       "  <tbody>\n",
       "    <tr>\n",
       "      <th>False</th>\n",
       "      <td>344</td>\n",
       "    </tr>\n",
       "    <tr>\n",
       "      <th>True</th>\n",
       "      <td>5</td>\n",
       "    </tr>\n",
       "  </tbody>\n",
       "</table>\n",
       "</div>"
      ],
      "text/plain": [
       "                              coder_id\n",
       "questionable_respondant_flag          \n",
       "False                              344\n",
       "True                                 5"
      ]
     },
     "execution_count": 134,
     "metadata": {},
     "output_type": "execute_result"
    }
   ],
   "source": [
    "coder_df = val_data.drop_duplicates('coder_id')\n",
    "coder_df.groupby('questionable_respondant_flag').agg({'coder_id': 'count'})"
   ]
  },
  {
   "cell_type": "code",
   "execution_count": 135,
   "metadata": {},
   "outputs": [
    {
     "data": {
      "text/html": [
       "<div>\n",
       "<style scoped>\n",
       "    .dataframe tbody tr th:only-of-type {\n",
       "        vertical-align: middle;\n",
       "    }\n",
       "\n",
       "    .dataframe tbody tr th {\n",
       "        vertical-align: top;\n",
       "    }\n",
       "\n",
       "    .dataframe thead th {\n",
       "        text-align: right;\n",
       "    }\n",
       "</style>\n",
       "<table border=\"1\" class=\"dataframe\">\n",
       "  <thead>\n",
       "    <tr style=\"text-align: right;\">\n",
       "      <th></th>\n",
       "      <th>coder_id</th>\n",
       "    </tr>\n",
       "    <tr>\n",
       "      <th>nation</th>\n",
       "      <th></th>\n",
       "    </tr>\n",
       "  </thead>\n",
       "  <tbody>\n",
       "    <tr>\n",
       "      <th>England</th>\n",
       "      <td>301</td>\n",
       "    </tr>\n",
       "    <tr>\n",
       "      <th>Northern Ireland</th>\n",
       "      <td>3</td>\n",
       "    </tr>\n",
       "    <tr>\n",
       "      <th>Scotland</th>\n",
       "      <td>28</td>\n",
       "    </tr>\n",
       "    <tr>\n",
       "      <th>Wales</th>\n",
       "      <td>17</td>\n",
       "    </tr>\n",
       "  </tbody>\n",
       "</table>\n",
       "</div>"
      ],
      "text/plain": [
       "                  coder_id\n",
       "nation                    \n",
       "England                301\n",
       "Northern Ireland         3\n",
       "Scotland                28\n",
       "Wales                   17"
      ]
     },
     "execution_count": 135,
     "metadata": {},
     "output_type": "execute_result"
    }
   ],
   "source": [
    "coder_df = val_data.drop_duplicates('coder_id')\n",
    "coder_df.groupby('nation').agg({'coder_id': 'count'})"
   ]
  },
  {
   "cell_type": "code",
   "execution_count": 137,
   "metadata": {},
   "outputs": [
    {
     "data": {
      "text/plain": [
       "<matplotlib.axes._subplots.AxesSubplot at 0x7fb96f130cf8>"
      ]
     },
     "execution_count": 137,
     "metadata": {},
     "output_type": "execute_result"
    },
    {
     "data": {
      "image/png": "[encoded data removed]",
      "text/plain": [
       "<Figure size 432x288 with 1 Axes>"
      ]
     },
     "metadata": {
      "needs_background": "light"
     },
     "output_type": "display_data"
    }
   ],
   "source": [
    "# Number of assessments by a coder\n",
    "coder_counts = val_data.groupby('coder_id').agg({'classification_id': 'count'})\n",
    "coder_counts.classification_id.hist()"
   ]
  },
  {
   "cell_type": "code",
   "execution_count": 158,
   "metadata": {},
   "outputs": [
    {
     "data": {
      "image/png": "[encoded data removed]",
      "text/plain": [
       "<Figure size 432x288 with 1 Axes>"
      ]
     },
     "metadata": {
      "needs_background": "light"
     },
     "output_type": "display_data"
    }
   ],
   "source": [
    "# We should be aware of outsized influence of 'super-users'\n",
    "# i.e. 50% of the total number of validations are provided by about 10 people \n",
    "x = np.sort(coder_counts.classification_id.to_list())\n",
    "y = np.cumsum(np.sort(coder_counts.classification_id.to_list())) / np.sum(x)\n",
    "plt.scatter(x, y, linewidths=1)\n",
    "plt.ylabel('fraction of total validations')\n",
    "plt.xlabel('number of validations per single coder')\n",
    "plt.show()"
   ]
  },
  {
   "cell_type": "markdown",
   "metadata": {},
   "source": [
    "# 2. Check the coverage of transitions"
   ]
  },
  {
   "cell_type": "code",
   "execution_count": 33,
   "metadata": {},
   "outputs": [
    {
     "name": "stdout",
     "output_type": "stream",
     "text": [
      "4813\n"
     ]
    },
    {
     "data": {
      "text/plain": [
       "4813"
      ]
     },
     "execution_count": 33,
     "metadata": {},
     "output_type": "execute_result"
    }
   ],
   "source": [
    "print(len(val_trans))\n",
    "len(val_data.subject_ids.unique())\n"
   ]
  },
  {
   "cell_type": "code",
   "execution_count": null,
   "metadata": {},
   "outputs": [],
   "source": [
    "# Check if any transitions are missing\n",
    "df = val_trans.merge(val_data[['origin_id', 'destination_id', 'subject_ids']], on=['origin_id', 'destination_id'])\n",
    "df[df.subject_ids.isnull()]"
   ]
  },
  {
   "cell_type": "code",
   "execution_count": 38,
   "metadata": {},
   "outputs": [
    {
     "data": {
      "text/plain": [
       "<matplotlib.axes._subplots.AxesSubplot at 0x7fb98028f940>"
      ]
     },
     "execution_count": 38,
     "metadata": {},
     "output_type": "execute_result"
    },
    {
     "data": {
      "image/png": "[encoded data removed]",
      "text/plain": [
       "<Figure size 432x288 with 1 Axes>"
      ]
     },
     "metadata": {
      "needs_background": "light"
     },
     "output_type": "display_data"
    }
   ],
   "source": [
    "# There are at least 5 ratings for each transition\n",
    "val_data.groupby('subject_ids').count().classification_id.hist()"
   ]
  },
  {
   "cell_type": "markdown",
   "metadata": {},
   "source": [
    "# 3. Check the correlation with similarity measures"
   ]
  },
  {
   "cell_type": "code",
   "execution_count": 75,
   "metadata": {},
   "outputs": [],
   "source": [
    "from scipy.stats import pearsonr"
   ]
  },
  {
   "cell_type": "code",
   "execution_count": 160,
   "metadata": {},
   "outputs": [],
   "source": [
    "# Check the mean feasibility for each transition\n",
    "val_data_sim = val_data.groupby('subject_ids').agg({'feasibility_1-5': 'mean'}).reset_index()\n",
    "\n",
    "# Add occupation IDs \n",
    "val_data_sim = val_data_sim.merge(val_data.drop_duplicates('subject_ids')[[\n",
    "    'origin_id', 'destination_id',\n",
    "    'origin_label', 'destination_label',\n",
    "    'subject_ids']],\n",
    "                                  on=['subject_ids'], how='left')\n"
   ]
  },
  {
   "cell_type": "code",
   "execution_count": 161,
   "metadata": {},
   "outputs": [
    {
     "data": {
      "image/png": "[encoded data removed]",
      "text/plain": [
       "<Figure size 432x288 with 1 Axes>"
      ]
     },
     "metadata": {
      "needs_background": "light"
     },
     "output_type": "display_data"
    }
   ],
   "source": [
    "val_data_sim['feasibility_1-5'].hist()\n",
    "plt.show()"
   ]
  },
  {
   "cell_type": "code",
   "execution_count": 162,
   "metadata": {},
   "outputs": [],
   "source": [
    "# Add similarity values to the data\n",
    "val_data_sim['similarity'] = 100\n",
    "sim_list = []\n",
    "unique_subjects = val_data_sim.subject_ids.unique()\n",
    "\n",
    "for j, row in val_data_sim.iterrows():\n",
    "    sim = sims.W_combined[int(row.origin_id), int(row.destination_id)]\n",
    "    sim_list.append(sim)\n",
    "    \n",
    "val_data_sim['similarity'] = sim_list "
   ]
  },
  {
   "cell_type": "code",
   "execution_count": 163,
   "metadata": {},
   "outputs": [
    {
     "data": {
      "text/html": [
       "<div>\n",
       "<style scoped>\n",
       "    .dataframe tbody tr th:only-of-type {\n",
       "        vertical-align: middle;\n",
       "    }\n",
       "\n",
       "    .dataframe tbody tr th {\n",
       "        vertical-align: top;\n",
       "    }\n",
       "\n",
       "    .dataframe thead th {\n",
       "        text-align: right;\n",
       "    }\n",
       "</style>\n",
       "<table border=\"1\" class=\"dataframe\">\n",
       "  <thead>\n",
       "    <tr style=\"text-align: right;\">\n",
       "      <th></th>\n",
       "      <th>subject_ids</th>\n",
       "      <th>feasibility_1-5</th>\n",
       "      <th>origin_id</th>\n",
       "      <th>destination_id</th>\n",
       "      <th>origin_label</th>\n",
       "      <th>destination_label</th>\n",
       "      <th>similarity</th>\n",
       "    </tr>\n",
       "  </thead>\n",
       "  <tbody>\n",
       "    <tr>\n",
       "      <th>0</th>\n",
       "      <td>52451278</td>\n",
       "      <td>2.000000</td>\n",
       "      <td>29</td>\n",
       "      <td>2654</td>\n",
       "      <td>legal guardian</td>\n",
       "      <td>employment and vocational integration consultant</td>\n",
       "      <td>0.333975</td>\n",
       "    </tr>\n",
       "    <tr>\n",
       "      <th>1</th>\n",
       "      <td>52451279</td>\n",
       "      <td>2.888889</td>\n",
       "      <td>29</td>\n",
       "      <td>1803</td>\n",
       "      <td>legal guardian</td>\n",
       "      <td>special educational needs teacher</td>\n",
       "      <td>0.319810</td>\n",
       "    </tr>\n",
       "    <tr>\n",
       "      <th>2</th>\n",
       "      <td>52451280</td>\n",
       "      <td>2.875000</td>\n",
       "      <td>29</td>\n",
       "      <td>1036</td>\n",
       "      <td>legal guardian</td>\n",
       "      <td>social counsellor</td>\n",
       "      <td>0.364106</td>\n",
       "    </tr>\n",
       "    <tr>\n",
       "      <th>3</th>\n",
       "      <td>52451281</td>\n",
       "      <td>3.857143</td>\n",
       "      <td>29</td>\n",
       "      <td>2877</td>\n",
       "      <td>legal guardian</td>\n",
       "      <td>social pedagogue</td>\n",
       "      <td>0.352374</td>\n",
       "    </tr>\n",
       "    <tr>\n",
       "      <th>4</th>\n",
       "      <td>52451282</td>\n",
       "      <td>2.222222</td>\n",
       "      <td>29</td>\n",
       "      <td>2292</td>\n",
       "      <td>legal guardian</td>\n",
       "      <td>social services manager</td>\n",
       "      <td>0.316622</td>\n",
       "    </tr>\n",
       "    <tr>\n",
       "      <th>...</th>\n",
       "      <td>...</td>\n",
       "      <td>...</td>\n",
       "      <td>...</td>\n",
       "      <td>...</td>\n",
       "      <td>...</td>\n",
       "      <td>...</td>\n",
       "      <td>...</td>\n",
       "    </tr>\n",
       "    <tr>\n",
       "      <th>4808</th>\n",
       "      <td>53137770</td>\n",
       "      <td>1.222222</td>\n",
       "      <td>2937</td>\n",
       "      <td>2269</td>\n",
       "      <td>demographer</td>\n",
       "      <td>philosopher</td>\n",
       "      <td>0.447875</td>\n",
       "    </tr>\n",
       "    <tr>\n",
       "      <th>4809</th>\n",
       "      <td>53137771</td>\n",
       "      <td>1.857143</td>\n",
       "      <td>2937</td>\n",
       "      <td>2046</td>\n",
       "      <td>demographer</td>\n",
       "      <td>anthropologist</td>\n",
       "      <td>0.446530</td>\n",
       "    </tr>\n",
       "    <tr>\n",
       "      <th>4810</th>\n",
       "      <td>53137772</td>\n",
       "      <td>2.250000</td>\n",
       "      <td>2937</td>\n",
       "      <td>159</td>\n",
       "      <td>demographer</td>\n",
       "      <td>historian</td>\n",
       "      <td>0.442507</td>\n",
       "    </tr>\n",
       "    <tr>\n",
       "      <th>4811</th>\n",
       "      <td>53137773</td>\n",
       "      <td>1.888889</td>\n",
       "      <td>2937</td>\n",
       "      <td>393</td>\n",
       "      <td>demographer</td>\n",
       "      <td>archaeologist</td>\n",
       "      <td>0.422553</td>\n",
       "    </tr>\n",
       "    <tr>\n",
       "      <th>4812</th>\n",
       "      <td>53137774</td>\n",
       "      <td>1.875000</td>\n",
       "      <td>2937</td>\n",
       "      <td>267</td>\n",
       "      <td>demographer</td>\n",
       "      <td>actuarial assistant</td>\n",
       "      <td>0.350605</td>\n",
       "    </tr>\n",
       "  </tbody>\n",
       "</table>\n",
       "<p>4813 rows × 7 columns</p>\n",
       "</div>"
      ],
      "text/plain": [
       "      subject_ids  feasibility_1-5  origin_id  destination_id    origin_label  \\\n",
       "0        52451278         2.000000         29            2654  legal guardian   \n",
       "1        52451279         2.888889         29            1803  legal guardian   \n",
       "2        52451280         2.875000         29            1036  legal guardian   \n",
       "3        52451281         3.857143         29            2877  legal guardian   \n",
       "4        52451282         2.222222         29            2292  legal guardian   \n",
       "...           ...              ...        ...             ...             ...   \n",
       "4808     53137770         1.222222       2937            2269     demographer   \n",
       "4809     53137771         1.857143       2937            2046     demographer   \n",
       "4810     53137772         2.250000       2937             159     demographer   \n",
       "4811     53137773         1.888889       2937             393     demographer   \n",
       "4812     53137774         1.875000       2937             267     demographer   \n",
       "\n",
       "                                     destination_label  similarity  \n",
       "0     employment and vocational integration consultant    0.333975  \n",
       "1                    special educational needs teacher    0.319810  \n",
       "2                                    social counsellor    0.364106  \n",
       "3                                     social pedagogue    0.352374  \n",
       "4                              social services manager    0.316622  \n",
       "...                                                ...         ...  \n",
       "4808                                       philosopher    0.447875  \n",
       "4809                                    anthropologist    0.446530  \n",
       "4810                                         historian    0.442507  \n",
       "4811                                     archaeologist    0.422553  \n",
       "4812                               actuarial assistant    0.350605  \n",
       "\n",
       "[4813 rows x 7 columns]"
      ]
     },
     "execution_count": 163,
     "metadata": {},
     "output_type": "execute_result"
    }
   ],
   "source": [
    "val_data_sim"
   ]
  },
  {
   "cell_type": "code",
   "execution_count": 164,
   "metadata": {},
   "outputs": [
    {
     "data": {
      "text/plain": [
       "4813"
      ]
     },
     "execution_count": 164,
     "metadata": {},
     "output_type": "execute_result"
    }
   ],
   "source": [
    "len(val_data_sim)"
   ]
  },
  {
   "cell_type": "code",
   "execution_count": 165,
   "metadata": {},
   "outputs": [
    {
     "data": {
      "text/plain": [
       "0.9310543004822969"
      ]
     },
     "execution_count": 165,
     "metadata": {},
     "output_type": "execute_result"
    }
   ],
   "source": [
    "val_data_sim['similarity'].max()"
   ]
  },
  {
   "cell_type": "code",
   "execution_count": 166,
   "metadata": {},
   "outputs": [
    {
     "data": {
      "image/png": "[encoded data removed]",
      "text/plain": [
       "<Figure size 432x288 with 1 Axes>"
      ]
     },
     "metadata": {
      "needs_background": "light"
     },
     "output_type": "display_data"
    }
   ],
   "source": [
    "plt.scatter(\n",
    "    x=val_data_sim['similarity'],\n",
    "    y=val_data_sim['feasibility_1-5'], alpha=0.15)\n",
    "plt.xlabel('similarity')\n",
    "plt.ylabel('feasibility rating')\n",
    "plt.show()"
   ]
  },
  {
   "cell_type": "code",
   "execution_count": 167,
   "metadata": {},
   "outputs": [
    {
     "data": {
      "text/plain": [
       "(0.5048958847092107, 8.7423649073263e-310)"
      ]
     },
     "execution_count": 167,
     "metadata": {},
     "output_type": "execute_result"
    }
   ],
   "source": [
    "pearsonr(val_data_sim['similarity'],\n",
    "         val_data_sim['feasibility_1-5']\n",
    "        )"
   ]
  },
  {
   "cell_type": "code",
   "execution_count": 172,
   "metadata": {},
   "outputs": [
    {
     "data": {
      "text/html": [
       "<div>\n",
       "<style scoped>\n",
       "    .dataframe tbody tr th:only-of-type {\n",
       "        vertical-align: middle;\n",
       "    }\n",
       "\n",
       "    .dataframe tbody tr th {\n",
       "        vertical-align: top;\n",
       "    }\n",
       "\n",
       "    .dataframe thead th {\n",
       "        text-align: right;\n",
       "    }\n",
       "</style>\n",
       "<table border=\"1\" class=\"dataframe\">\n",
       "  <thead>\n",
       "    <tr style=\"text-align: right;\">\n",
       "      <th></th>\n",
       "      <th>subject_ids</th>\n",
       "      <th>feasibility_1-5</th>\n",
       "      <th>origin_id</th>\n",
       "      <th>destination_id</th>\n",
       "      <th>origin_label</th>\n",
       "      <th>destination_label</th>\n",
       "      <th>similarity</th>\n",
       "    </tr>\n",
       "  </thead>\n",
       "  <tbody>\n",
       "    <tr>\n",
       "      <th>1916</th>\n",
       "      <td>52685769</td>\n",
       "      <td>1.000000</td>\n",
       "      <td>1808</td>\n",
       "      <td>401</td>\n",
       "      <td>leather production planner</td>\n",
       "      <td>sport administrator</td>\n",
       "      <td>0.301525</td>\n",
       "    </tr>\n",
       "    <tr>\n",
       "      <th>735</th>\n",
       "      <td>52682588</td>\n",
       "      <td>1.000000</td>\n",
       "      <td>625</td>\n",
       "      <td>2107</td>\n",
       "      <td>food analyst</td>\n",
       "      <td>control panel tester</td>\n",
       "      <td>0.307304</td>\n",
       "    </tr>\n",
       "    <tr>\n",
       "      <th>597</th>\n",
       "      <td>52682320</td>\n",
       "      <td>1.000000</td>\n",
       "      <td>600</td>\n",
       "      <td>2076</td>\n",
       "      <td>security guard</td>\n",
       "      <td>aviation inspector</td>\n",
       "      <td>0.308610</td>\n",
       "    </tr>\n",
       "    <tr>\n",
       "      <th>1550</th>\n",
       "      <td>52684850</td>\n",
       "      <td>1.000000</td>\n",
       "      <td>1510</td>\n",
       "      <td>868</td>\n",
       "      <td>composer</td>\n",
       "      <td>lexicographer</td>\n",
       "      <td>0.319922</td>\n",
       "    </tr>\n",
       "    <tr>\n",
       "      <th>1684</th>\n",
       "      <td>52685190</td>\n",
       "      <td>1.000000</td>\n",
       "      <td>1608</td>\n",
       "      <td>1683</td>\n",
       "      <td>user interface developer</td>\n",
       "      <td>architect</td>\n",
       "      <td>0.315793</td>\n",
       "    </tr>\n",
       "    <tr>\n",
       "      <th>2621</th>\n",
       "      <td>52690178</td>\n",
       "      <td>1.000000</td>\n",
       "      <td>2638</td>\n",
       "      <td>2880</td>\n",
       "      <td>asset manager</td>\n",
       "      <td>natural resources consultant</td>\n",
       "      <td>0.308654</td>\n",
       "    </tr>\n",
       "    <tr>\n",
       "      <th>841</th>\n",
       "      <td>52682848</td>\n",
       "      <td>1.000000</td>\n",
       "      <td>827</td>\n",
       "      <td>517</td>\n",
       "      <td>credit union manager</td>\n",
       "      <td>police commissioner</td>\n",
       "      <td>0.363094</td>\n",
       "    </tr>\n",
       "    <tr>\n",
       "      <th>724</th>\n",
       "      <td>52682563</td>\n",
       "      <td>1.000000</td>\n",
       "      <td>625</td>\n",
       "      <td>2076</td>\n",
       "      <td>food analyst</td>\n",
       "      <td>aviation inspector</td>\n",
       "      <td>0.322703</td>\n",
       "    </tr>\n",
       "    <tr>\n",
       "      <th>2944</th>\n",
       "      <td>53135906</td>\n",
       "      <td>1.000000</td>\n",
       "      <td>29</td>\n",
       "      <td>2867</td>\n",
       "      <td>legal guardian</td>\n",
       "      <td>recreational therapist</td>\n",
       "      <td>0.370220</td>\n",
       "    </tr>\n",
       "    <tr>\n",
       "      <th>84</th>\n",
       "      <td>52451447</td>\n",
       "      <td>1.111111</td>\n",
       "      <td>89</td>\n",
       "      <td>1798</td>\n",
       "      <td>recruitment consultant</td>\n",
       "      <td>lawyer</td>\n",
       "      <td>0.308266</td>\n",
       "    </tr>\n",
       "    <tr>\n",
       "      <th>990</th>\n",
       "      <td>52683266</td>\n",
       "      <td>1.111111</td>\n",
       "      <td>1028</td>\n",
       "      <td>1351</td>\n",
       "      <td>pipeline route manager</td>\n",
       "      <td>assistant video and motion picture director</td>\n",
       "      <td>0.348085</td>\n",
       "    </tr>\n",
       "    <tr>\n",
       "      <th>983</th>\n",
       "      <td>52683254</td>\n",
       "      <td>1.111111</td>\n",
       "      <td>1028</td>\n",
       "      <td>517</td>\n",
       "      <td>pipeline route manager</td>\n",
       "      <td>police commissioner</td>\n",
       "      <td>0.396012</td>\n",
       "    </tr>\n",
       "    <tr>\n",
       "      <th>350</th>\n",
       "      <td>52452131</td>\n",
       "      <td>1.111111</td>\n",
       "      <td>320</td>\n",
       "      <td>1753</td>\n",
       "      <td>credit adviser</td>\n",
       "      <td>transport planner</td>\n",
       "      <td>0.305143</td>\n",
       "    </tr>\n",
       "    <tr>\n",
       "      <th>381</th>\n",
       "      <td>52452218</td>\n",
       "      <td>1.111111</td>\n",
       "      <td>394</td>\n",
       "      <td>1798</td>\n",
       "      <td>relocation officer</td>\n",
       "      <td>lawyer</td>\n",
       "      <td>0.329115</td>\n",
       "    </tr>\n",
       "    <tr>\n",
       "      <th>819</th>\n",
       "      <td>52682797</td>\n",
       "      <td>1.111111</td>\n",
       "      <td>791</td>\n",
       "      <td>103</td>\n",
       "      <td>employment agent</td>\n",
       "      <td>judge</td>\n",
       "      <td>0.304426</td>\n",
       "    </tr>\n",
       "    <tr>\n",
       "      <th>473</th>\n",
       "      <td>52452505</td>\n",
       "      <td>1.111111</td>\n",
       "      <td>503</td>\n",
       "      <td>905</td>\n",
       "      <td>executive assistant</td>\n",
       "      <td>book editor</td>\n",
       "      <td>0.308534</td>\n",
       "    </tr>\n",
       "    <tr>\n",
       "      <th>3064</th>\n",
       "      <td>53136026</td>\n",
       "      <td>1.111111</td>\n",
       "      <td>160</td>\n",
       "      <td>1402</td>\n",
       "      <td>ICT security consultant</td>\n",
       "      <td>conservator</td>\n",
       "      <td>0.310093</td>\n",
       "    </tr>\n",
       "    <tr>\n",
       "      <th>730</th>\n",
       "      <td>52682574</td>\n",
       "      <td>1.111111</td>\n",
       "      <td>625</td>\n",
       "      <td>988</td>\n",
       "      <td>food analyst</td>\n",
       "      <td>surface-mount technology machine operator</td>\n",
       "      <td>0.312312</td>\n",
       "    </tr>\n",
       "    <tr>\n",
       "      <th>1494</th>\n",
       "      <td>52684716</td>\n",
       "      <td>1.125000</td>\n",
       "      <td>1470</td>\n",
       "      <td>1983</td>\n",
       "      <td>director of compliance and information securit...</td>\n",
       "      <td>ICT product manager</td>\n",
       "      <td>0.310488</td>\n",
       "    </tr>\n",
       "    <tr>\n",
       "      <th>645</th>\n",
       "      <td>52682413</td>\n",
       "      <td>1.125000</td>\n",
       "      <td>615</td>\n",
       "      <td>637</td>\n",
       "      <td>credit manager</td>\n",
       "      <td>pipeline environmental project manager</td>\n",
       "      <td>0.308846</td>\n",
       "    </tr>\n",
       "  </tbody>\n",
       "</table>\n",
       "</div>"
      ],
      "text/plain": [
       "      subject_ids  feasibility_1-5  origin_id  destination_id  \\\n",
       "1916     52685769         1.000000       1808             401   \n",
       "735      52682588         1.000000        625            2107   \n",
       "597      52682320         1.000000        600            2076   \n",
       "1550     52684850         1.000000       1510             868   \n",
       "1684     52685190         1.000000       1608            1683   \n",
       "2621     52690178         1.000000       2638            2880   \n",
       "841      52682848         1.000000        827             517   \n",
       "724      52682563         1.000000        625            2076   \n",
       "2944     53135906         1.000000         29            2867   \n",
       "84       52451447         1.111111         89            1798   \n",
       "990      52683266         1.111111       1028            1351   \n",
       "983      52683254         1.111111       1028             517   \n",
       "350      52452131         1.111111        320            1753   \n",
       "381      52452218         1.111111        394            1798   \n",
       "819      52682797         1.111111        791             103   \n",
       "473      52452505         1.111111        503             905   \n",
       "3064     53136026         1.111111        160            1402   \n",
       "730      52682574         1.111111        625             988   \n",
       "1494     52684716         1.125000       1470            1983   \n",
       "645      52682413         1.125000        615             637   \n",
       "\n",
       "                                           origin_label  \\\n",
       "1916                         leather production planner   \n",
       "735                                        food analyst   \n",
       "597                                      security guard   \n",
       "1550                                           composer   \n",
       "1684                           user interface developer   \n",
       "2621                                      asset manager   \n",
       "841                                credit union manager   \n",
       "724                                        food analyst   \n",
       "2944                                     legal guardian   \n",
       "84                               recruitment consultant   \n",
       "990                              pipeline route manager   \n",
       "983                              pipeline route manager   \n",
       "350                                      credit adviser   \n",
       "381                                  relocation officer   \n",
       "819                                    employment agent   \n",
       "473                                 executive assistant   \n",
       "3064                            ICT security consultant   \n",
       "730                                        food analyst   \n",
       "1494  director of compliance and information securit...   \n",
       "645                                      credit manager   \n",
       "\n",
       "                                destination_label  similarity  \n",
       "1916                          sport administrator    0.301525  \n",
       "735                          control panel tester    0.307304  \n",
       "597                            aviation inspector    0.308610  \n",
       "1550                                lexicographer    0.319922  \n",
       "1684                                    architect    0.315793  \n",
       "2621                 natural resources consultant    0.308654  \n",
       "841                           police commissioner    0.363094  \n",
       "724                            aviation inspector    0.322703  \n",
       "2944                       recreational therapist    0.370220  \n",
       "84                                         lawyer    0.308266  \n",
       "990   assistant video and motion picture director    0.348085  \n",
       "983                           police commissioner    0.396012  \n",
       "350                             transport planner    0.305143  \n",
       "381                                        lawyer    0.329115  \n",
       "819                                         judge    0.304426  \n",
       "473                                   book editor    0.308534  \n",
       "3064                                  conservator    0.310093  \n",
       "730     surface-mount technology machine operator    0.312312  \n",
       "1494                          ICT product manager    0.310488  \n",
       "645        pipeline environmental project manager    0.308846  "
      ]
     },
     "execution_count": 172,
     "metadata": {},
     "output_type": "execute_result"
    }
   ],
   "source": [
    "# Check the least feasible transitions\n",
    "val_data_sim.sort_values('feasibility_1-5').head(20)"
   ]
  },
  {
   "cell_type": "code",
   "execution_count": null,
   "metadata": {},
   "outputs": [],
   "source": []
  }
 ],
 "metadata": {
  "kernelspec": {
   "display_name": "Python 3",
   "language": "python",
   "name": "python3"
  },
  "language_info": {
   "codemirror_mode": {
    "name": "ipython",
    "version": 3
   },
   "file_extension": ".py",
   "mimetype": "text/x-python",
   "name": "python",
   "nbconvert_exporter": "python",
   "pygments_lexer": "ipython3",
   "version": "3.6.5"
  }
 },
 "nbformat": 4,
 "nbformat_minor": 4
}
