{
 "cells": [
  {
   "cell_type": "markdown",
   "metadata": {},
   "source": [
    "# Notebook for generating transition recommendations for validation"
   ]
  },
  {
   "cell_type": "code",
   "execution_count": 429,
   "metadata": {},
   "outputs": [],
   "source": [
    "import pandas as pd\n",
    "import numpy as np\n",
    "import pickle\n",
    "from tqdm.notebook import tqdm \n",
    "from time import time\n",
    "\n",
    "import career_causeways.compare_nodes_utils as compare_nodes_utils\n",
    "import career_causeways.load_data as load_data\n",
    "import career_causeways.transitions_utils as trans_utils\n",
    "find_closest = compare_nodes_utils.find_closest\n",
    "\n",
    "import umap\n",
    "import matplotlib.colors as colors\n",
    "from matplotlib.colors import ListedColormap\n",
    "import seaborn as sns\n",
    "from matplotlib import pyplot as plt\n",
    "import plotly.express as px\n",
    "from scipy.spatial.distance import pdist, squareform"
   ]
  },
  {
   "cell_type": "code",
   "execution_count": 430,
   "metadata": {},
   "outputs": [],
   "source": [
    "import regex as re"
   ]
  },
  {
   "cell_type": "code",
   "execution_count": 431,
   "metadata": {},
   "outputs": [],
   "source": [
    "# Load classes that facilitate access to different data\n",
    "data_folder = '../../data/'\n",
    "outputs_folder = ''\n",
    "\n",
    "data = load_data.Data(data_folder)\n",
    "sim = load_data.Similarities(data_folder)\n",
    "comp_features = trans_utils.CompareFeatures(data_folder)\n",
    "\n",
    "# Skills description embeddings\n",
    "embeddings = np.load(data_folder + 'interim/embeddings/embeddings_skills_description_SBERT.npy')\n"
   ]
  },
  {
   "cell_type": "code",
   "execution_count": 432,
   "metadata": {},
   "outputs": [],
   "source": [
    "# # Occupations and their features\n",
    "# data.occ.info()"
   ]
  },
  {
   "cell_type": "markdown",
   "metadata": {},
   "source": [
    "# 1. All safe and desirable transitions from high-risk occupations\n",
    "\n",
    "## 1.1 Find the transitions"
   ]
  },
  {
   "cell_type": "code",
   "execution_count": 4,
   "metadata": {},
   "outputs": [
    {
     "data": {
      "text/html": [
       "<div>\n",
       "<style scoped>\n",
       "    .dataframe tbody tr th:only-of-type {\n",
       "        vertical-align: middle;\n",
       "    }\n",
       "\n",
       "    .dataframe tbody tr th {\n",
       "        vertical-align: top;\n",
       "    }\n",
       "\n",
       "    .dataframe thead th {\n",
       "        text-align: right;\n",
       "    }\n",
       "</style>\n",
       "<table border=\"1\" class=\"dataframe\">\n",
       "  <thead>\n",
       "    <tr style=\"text-align: right;\">\n",
       "      <th></th>\n",
       "      <th>id</th>\n",
       "      <th>concept_uri</th>\n",
       "      <th>preferred_label</th>\n",
       "      <th>isco_level_4</th>\n",
       "      <th>onet_code</th>\n",
       "      <th>onet_title</th>\n",
       "      <th>risk</th>\n",
       "      <th>prop_bottleneck_tasks</th>\n",
       "      <th>prop_phys_bottleneck_tasks</th>\n",
       "      <th>risk_std</th>\n",
       "      <th>...</th>\n",
       "      <th>is_top_level</th>\n",
       "      <th>annual_gross_pay</th>\n",
       "      <th>total_paid_hours</th>\n",
       "      <th>employment_count</th>\n",
       "      <th>employment_rate</th>\n",
       "      <th>level_1</th>\n",
       "      <th>level_2</th>\n",
       "      <th>remote_labor_index</th>\n",
       "      <th>covid_score</th>\n",
       "      <th>physical_proximity</th>\n",
       "    </tr>\n",
       "  </thead>\n",
       "  <tbody>\n",
       "    <tr>\n",
       "      <th>1074</th>\n",
       "      <td>1074</td>\n",
       "      <td>http://data.europa.eu/esco/occupation/59bce29f...</td>\n",
       "      <td>tutor</td>\n",
       "      <td>2359</td>\n",
       "      <td>25-3099.02</td>\n",
       "      <td>tutors</td>\n",
       "      <td>3.604661</td>\n",
       "      <td>0.449060</td>\n",
       "      <td>0.237389</td>\n",
       "      <td>0.440981</td>\n",
       "      <td>...</td>\n",
       "      <td>True</td>\n",
       "      <td>21865.956000</td>\n",
       "      <td>27.173290</td>\n",
       "      <td>12801.185185</td>\n",
       "      <td>0.000398</td>\n",
       "      <td>6</td>\n",
       "      <td>29</td>\n",
       "      <td>NaN</td>\n",
       "      <td>NaN</td>\n",
       "      <td>0.8075</td>\n",
       "    </tr>\n",
       "    <tr>\n",
       "      <th>2700</th>\n",
       "      <td>2700</td>\n",
       "      <td>http://data.europa.eu/esco/occupation/e93b3b49...</td>\n",
       "      <td>personal property appraiser</td>\n",
       "      <td>3315</td>\n",
       "      <td>13-2021.01</td>\n",
       "      <td>assessors</td>\n",
       "      <td>3.581750</td>\n",
       "      <td>0.429715</td>\n",
       "      <td>0.044397</td>\n",
       "      <td>0.341756</td>\n",
       "      <td>...</td>\n",
       "      <td>True</td>\n",
       "      <td>30599.993865</td>\n",
       "      <td>35.068158</td>\n",
       "      <td>22457.913043</td>\n",
       "      <td>0.000699</td>\n",
       "      <td>1</td>\n",
       "      <td>7</td>\n",
       "      <td>0.684211</td>\n",
       "      <td>0.426121</td>\n",
       "      <td>0.5750</td>\n",
       "    </tr>\n",
       "    <tr>\n",
       "      <th>1348</th>\n",
       "      <td>1348</td>\n",
       "      <td>http://data.europa.eu/esco/occupation/7153a12d...</td>\n",
       "      <td>ground steward/ground stewardess</td>\n",
       "      <td>4221</td>\n",
       "      <td>43-4181.00</td>\n",
       "      <td>reservation and transportation ticket agents a...</td>\n",
       "      <td>3.620310</td>\n",
       "      <td>0.364429</td>\n",
       "      <td>0.298460</td>\n",
       "      <td>0.263428</td>\n",
       "      <td>...</td>\n",
       "      <td>True</td>\n",
       "      <td>18336.107735</td>\n",
       "      <td>30.327475</td>\n",
       "      <td>56870.437500</td>\n",
       "      <td>0.001769</td>\n",
       "      <td>2</td>\n",
       "      <td>11</td>\n",
       "      <td>0.384615</td>\n",
       "      <td>0.706018</td>\n",
       "      <td>0.8100</td>\n",
       "    </tr>\n",
       "  </tbody>\n",
       "</table>\n",
       "<p>3 rows × 32 columns</p>\n",
       "</div>"
      ],
      "text/plain": [
       "        id                                        concept_uri  \\\n",
       "1074  1074  http://data.europa.eu/esco/occupation/59bce29f...   \n",
       "2700  2700  http://data.europa.eu/esco/occupation/e93b3b49...   \n",
       "1348  1348  http://data.europa.eu/esco/occupation/7153a12d...   \n",
       "\n",
       "                       preferred_label  isco_level_4   onet_code  \\\n",
       "1074                             tutor          2359  25-3099.02   \n",
       "2700       personal property appraiser          3315  13-2021.01   \n",
       "1348  ground steward/ground stewardess          4221  43-4181.00   \n",
       "\n",
       "                                             onet_title      risk  \\\n",
       "1074                                             tutors  3.604661   \n",
       "2700                                          assessors  3.581750   \n",
       "1348  reservation and transportation ticket agents a...  3.620310   \n",
       "\n",
       "      prop_bottleneck_tasks  prop_phys_bottleneck_tasks  risk_std  ...  \\\n",
       "1074               0.449060                    0.237389  0.440981  ...   \n",
       "2700               0.429715                    0.044397  0.341756  ...   \n",
       "1348               0.364429                    0.298460  0.263428  ...   \n",
       "\n",
       "      is_top_level  annual_gross_pay  total_paid_hours employment_count  \\\n",
       "1074          True      21865.956000         27.173290     12801.185185   \n",
       "2700          True      30599.993865         35.068158     22457.913043   \n",
       "1348          True      18336.107735         30.327475     56870.437500   \n",
       "\n",
       "      employment_rate  level_1  level_2  remote_labor_index  covid_score  \\\n",
       "1074         0.000398        6       29                 NaN          NaN   \n",
       "2700         0.000699        1        7            0.684211     0.426121   \n",
       "1348         0.001769        2       11            0.384615     0.706018   \n",
       "\n",
       "      physical_proximity  \n",
       "1074              0.8075  \n",
       "2700              0.5750  \n",
       "1348              0.8100  \n",
       "\n",
       "[3 rows x 32 columns]"
      ]
     },
     "execution_count": 4,
     "metadata": {},
     "output_type": "execute_result"
    }
   ],
   "source": [
    "# Extract the IDs for high-risk occupations (note that the original label for these was 'Very high risk')\n",
    "high_risk_occ = data.occ_top[data.occ_top.risk_cat_label == 'Very high risk']\n",
    "high_risk_ids = high_risk_occ.id.to_list()\n",
    "high_risk_occ.sample(3)"
   ]
  },
  {
   "cell_type": "code",
   "execution_count": 5,
   "metadata": {},
   "outputs": [],
   "source": [
    "assert(len(high_risk_ids)==217)"
   ]
  },
  {
   "cell_type": "code",
   "execution_count": 6,
   "metadata": {},
   "outputs": [
    {
     "name": "stdout",
     "output_type": "stream",
     "text": [
      "Finding all transitions... Done!\n",
      "This took 2.60 seconds.\n"
     ]
    }
   ],
   "source": [
    "# Find all transitions pertaining to these occupations\n",
    "all_high_risk_trans = trans_utils.get_transitions(data, sim, id_to_check=high_risk_ids)\n"
   ]
  },
  {
   "cell_type": "code",
   "execution_count": 7,
   "metadata": {},
   "outputs": [
    {
     "data": {
      "text/plain": [
       "4813"
      ]
     },
     "execution_count": 7,
     "metadata": {},
     "output_type": "execute_result"
    }
   ],
   "source": [
    "# Select all safe and desirable transitions\n",
    "# (use the definition of safe and desirable = not in the \"Very high risk\" category)\n",
    "trans_df = all_high_risk_trans[all_high_risk_trans.is_safe_desirable]\n",
    "len(trans_df)"
   ]
  },
  {
   "cell_type": "markdown",
   "metadata": {},
   "source": [
    "## 1.2 Prepare the output table to share with validators \n",
    "\n",
    "For each row (i.e. 1 transition), we provide:\n",
    "- ID, label, and the description of the origin occupation\n",
    "- ID, label, and the description of the destination occupation\n",
    "\n",
    "- Top-10 perfectly and partially matched skills\n",
    "- Top-10 unmatched skills"
   ]
  },
  {
   "cell_type": "markdown",
   "metadata": {},
   "source": [
    "### Set up the parameters!"
   ]
  },
  {
   "cell_type": "code",
   "execution_count": 43,
   "metadata": {},
   "outputs": [],
   "source": [
    "# Semantic similarity threshold below which we call the pairwise skill match a skills gap (i.e. \"unmatched\")\n",
    "MATCH_THRESHOLD = 0.80 \n",
    "\n",
    "# Max number of matched skills or \"unmatched\" skills gaps\n",
    "N_MAX = 10\n",
    "\n",
    "# Output file name\n",
    "file_name = 'Transitions_for_1715_All_high_risk_FIXED.csv'\n",
    "\n",
    "# Test mode generates a couple of transitions\n",
    "TEST_MODE = False\n"
   ]
  },
  {
   "cell_type": "code",
   "execution_count": 44,
   "metadata": {},
   "outputs": [],
   "source": [
    "# Take a smaller sample\n",
    "# trans_df = trans_df.sample(50)"
   ]
  },
  {
   "cell_type": "code",
   "execution_count": 45,
   "metadata": {
    "scrolled": true
   },
   "outputs": [
    {
     "data": {
      "application/vnd.jupyter.widget-view+json": {
       "model_id": "27a0093b02594b58851e6313a2304ee2",
       "version_major": 2,
       "version_minor": 0
      },
      "text/plain": [
       "HBox(children=(FloatProgress(value=0.0, max=4813.0), HTML(value='')))"
      ]
     },
     "metadata": {},
     "output_type": "display_data"
    },
    {
     "name": "stdout",
     "output_type": "stream",
     "text": [
      "\n"
     ]
    }
   ],
   "source": [
    "k = 0\n",
    "\n",
    "perfect_matches = []\n",
    "partial_matches = []\n",
    "skills_gaps = []\n",
    "\n",
    "for j, row in tqdm(trans_df.iterrows(), total=len(trans_df)):\n",
    "    \n",
    "    # Origin job\n",
    "    job_i = row.origin_id\n",
    "    \n",
    "    # Destination job\n",
    "    job_j = row.destination_id\n",
    "    \n",
    "    # Get pairwise skills matches\n",
    "    # (Note: this is fairly slow - going forward, we should just generate and store all these tables)\n",
    "    compare_skills = trans_utils.show_skills_overlap(job_i, job_j, data, sim, embeddings, verbose=False)\n",
    "    \n",
    "    # Skills above the \"skills gap\" thershold\n",
    "    matched_skills = compare_skills[compare_skills.similarity > MATCH_THRESHOLD].iloc[0:N_MAX]\n",
    "    \n",
    "    # Generate strings with the perfect and partial matches\n",
    "    perfect_matches.append(\"; \".join(matched_skills[matched_skills.similarity==1].destination_skill.to_list()))\n",
    "    partial_matches.append(\"; \".join(matched_skills[matched_skills.similarity<1].destination_skill.to_list()))\n",
    "    \n",
    "    # Generate string with skills gaps (\"unmatched\" skills)\n",
    "    skills_gaps.append(\"; \".join(compare_skills[compare_skills.similarity<=MATCH_THRESHOLD].sort_values(\n",
    "        'similarity', ascending=True).reset_index().iloc[0:N_MAX].destination_skill.to_list()))\n",
    "    \n",
    "    k += 1\n",
    "    if TEST_MODE:\n",
    "        if k == 2:\n",
    "            break"
   ]
  },
  {
   "cell_type": "code",
   "execution_count": 46,
   "metadata": {},
   "outputs": [],
   "source": [
    "# Create the final output dataframe\n",
    "# This is where you can add more information about the transitions if necessary (e.g. similarities)\n",
    "# Also, you can use merge with data.occ[[..]] to add more descriptors about each occupation\n",
    "output_df = trans_df[['origin_id', 'origin_label', 'destination_id', 'destination_label']].copy()\n",
    "\n",
    "\n",
    "if TEST_MODE:\n",
    "    output_df = output_df.iloc[0:2]\n",
    "\n",
    "output_df = output_df.merge(data.occupations[['id', 'description']],\n",
    "                            left_on='origin_id', right_on='id', how='left')\n",
    "\n",
    "output_df = output_df.rename(columns={'description': 'origin_description'})\n",
    "output_df = output_df.drop('id', axis=1)\n",
    "\n",
    "output_df = output_df.merge(data.occupations[['id', 'description']],\n",
    "                            left_on='destination_id', right_on='id', how='left')\n",
    "\n",
    "output_df = output_df.rename(columns={'description': 'destination_description'})\n",
    "output_df = output_df.drop('id', axis=1)\n",
    "\n",
    "output_df['perfectly_matched_skills'] = perfect_matches\n",
    "output_df['partially_matched_skills'] = partial_matches\n",
    "output_df['unmatched_skills'] = skills_gaps\n",
    "\n",
    "output_df = output_df[[\n",
    "    'origin_id', 'origin_label', 'origin_description',\n",
    "    'destination_id', 'destination_label', 'destination_description',\n",
    "    'perfectly_matched_skills', 'partially_matched_skills', 'unmatched_skills']]\n"
   ]
  },
  {
   "cell_type": "code",
   "execution_count": 47,
   "metadata": {},
   "outputs": [
    {
     "data": {
      "text/html": [
       "<div>\n",
       "<style scoped>\n",
       "    .dataframe tbody tr th:only-of-type {\n",
       "        vertical-align: middle;\n",
       "    }\n",
       "\n",
       "    .dataframe tbody tr th {\n",
       "        vertical-align: top;\n",
       "    }\n",
       "\n",
       "    .dataframe thead th {\n",
       "        text-align: right;\n",
       "    }\n",
       "</style>\n",
       "<table border=\"1\" class=\"dataframe\">\n",
       "  <thead>\n",
       "    <tr style=\"text-align: right;\">\n",
       "      <th></th>\n",
       "      <th>origin_id</th>\n",
       "      <th>origin_label</th>\n",
       "      <th>origin_description</th>\n",
       "      <th>destination_id</th>\n",
       "      <th>destination_label</th>\n",
       "      <th>destination_description</th>\n",
       "      <th>perfectly_matched_skills</th>\n",
       "      <th>partially_matched_skills</th>\n",
       "      <th>unmatched_skills</th>\n",
       "    </tr>\n",
       "  </thead>\n",
       "  <tbody>\n",
       "    <tr>\n",
       "      <th>0</th>\n",
       "      <td>29</td>\n",
       "      <td>legal guardian</td>\n",
       "      <td>Legal guardians legally assist and support min...</td>\n",
       "      <td>2867</td>\n",
       "      <td>recreational therapist</td>\n",
       "      <td>Recreational therapists offer treatment to per...</td>\n",
       "      <td>listen actively</td>\n",
       "      <td></td>\n",
       "      <td>maintain healthcare user data confidentiality;...</td>\n",
       "    </tr>\n",
       "    <tr>\n",
       "      <th>1</th>\n",
       "      <td>29</td>\n",
       "      <td>legal guardian</td>\n",
       "      <td>Legal guardians legally assist and support min...</td>\n",
       "      <td>1036</td>\n",
       "      <td>social counsellor</td>\n",
       "      <td>Social counsellors provide support and guidanc...</td>\n",
       "      <td>listen actively; maintain the trust of service...</td>\n",
       "      <td>encourage counselled clients to examine themse...</td>\n",
       "      <td>reflexion; perform therapy sessions; demonstra...</td>\n",
       "    </tr>\n",
       "    <tr>\n",
       "      <th>2</th>\n",
       "      <td>29</td>\n",
       "      <td>legal guardian</td>\n",
       "      <td>Legal guardians legally assist and support min...</td>\n",
       "      <td>2877</td>\n",
       "      <td>social pedagogue</td>\n",
       "      <td>Social pedagogues provide care, support, and e...</td>\n",
       "      <td>apply person-centred care; support children's ...</td>\n",
       "      <td>support the positiveness of youths; adolescent...</td>\n",
       "      <td>undertake continuous professional development ...</td>\n",
       "    </tr>\n",
       "    <tr>\n",
       "      <th>3</th>\n",
       "      <td>29</td>\n",
       "      <td>legal guardian</td>\n",
       "      <td>Legal guardians legally assist and support min...</td>\n",
       "      <td>2654</td>\n",
       "      <td>employment and vocational integration consultant</td>\n",
       "      <td>Employment and vocational integration consulta...</td>\n",
       "      <td>give advice on personal matters; listen actively</td>\n",
       "      <td>facilitate job market access; develop course o...</td>\n",
       "      <td>observe confidentiality; communicate by teleph...</td>\n",
       "    </tr>\n",
       "    <tr>\n",
       "      <th>4</th>\n",
       "      <td>29</td>\n",
       "      <td>legal guardian</td>\n",
       "      <td>Legal guardians legally assist and support min...</td>\n",
       "      <td>1803</td>\n",
       "      <td>special educational needs teacher</td>\n",
       "      <td>Special educational needs teachers work with a...</td>\n",
       "      <td>disability care; assess the development of you...</td>\n",
       "      <td>assist children with special needs in educatio...</td>\n",
       "      <td>special needs learning equipment; observe stud...</td>\n",
       "    </tr>\n",
       "    <tr>\n",
       "      <th>...</th>\n",
       "      <td>...</td>\n",
       "      <td>...</td>\n",
       "      <td>...</td>\n",
       "      <td>...</td>\n",
       "      <td>...</td>\n",
       "      <td>...</td>\n",
       "      <td>...</td>\n",
       "      <td>...</td>\n",
       "      <td>...</td>\n",
       "    </tr>\n",
       "    <tr>\n",
       "      <th>4808</th>\n",
       "      <td>2937</td>\n",
       "      <td>demographer</td>\n",
       "      <td>Demographers study a variety of parameters rel...</td>\n",
       "      <td>460</td>\n",
       "      <td>data scientist</td>\n",
       "      <td>Data scientists find and interpret rich data s...</td>\n",
       "      <td>execute analytical mathematical calculations; ...</td>\n",
       "      <td>design database scheme; data mining; interpret...</td>\n",
       "      <td>normalise data; information extraction; resour...</td>\n",
       "    </tr>\n",
       "    <tr>\n",
       "      <th>4809</th>\n",
       "      <td>2937</td>\n",
       "      <td>demographer</td>\n",
       "      <td>Demographers study a variety of parameters rel...</td>\n",
       "      <td>2885</td>\n",
       "      <td>user experience analyst</td>\n",
       "      <td>User experience analysts assess client interac...</td>\n",
       "      <td></td>\n",
       "      <td>report analysis results; conduct quantitative ...</td>\n",
       "      <td>measure customer feedback; human-computer inte...</td>\n",
       "    </tr>\n",
       "    <tr>\n",
       "      <th>4810</th>\n",
       "      <td>2937</td>\n",
       "      <td>demographer</td>\n",
       "      <td>Demographers study a variety of parameters rel...</td>\n",
       "      <td>1239</td>\n",
       "      <td>market research analyst</td>\n",
       "      <td>Market research analysts collect the informati...</td>\n",
       "      <td>perform market research; statistics</td>\n",
       "      <td></td>\n",
       "      <td>marketing mix; analyse consumer buying trends;...</td>\n",
       "    </tr>\n",
       "    <tr>\n",
       "      <th>4811</th>\n",
       "      <td>2937</td>\n",
       "      <td>demographer</td>\n",
       "      <td>Demographers study a variety of parameters rel...</td>\n",
       "      <td>1610</td>\n",
       "      <td>mineralogist</td>\n",
       "      <td>Mineralogists study the composition, structure...</td>\n",
       "      <td>scientific research methodology; apply scienti...</td>\n",
       "      <td>process data; operate scientific measuring equ...</td>\n",
       "      <td>operate microscope; implement mineral processe...</td>\n",
       "    </tr>\n",
       "    <tr>\n",
       "      <th>4812</th>\n",
       "      <td>2937</td>\n",
       "      <td>demographer</td>\n",
       "      <td>Demographers study a variety of parameters rel...</td>\n",
       "      <td>2092</td>\n",
       "      <td>database developer</td>\n",
       "      <td>Database developers program, implement and coo...</td>\n",
       "      <td></td>\n",
       "      <td>database development tools; report analysis re...</td>\n",
       "      <td>perform backups; database management systems; ...</td>\n",
       "    </tr>\n",
       "  </tbody>\n",
       "</table>\n",
       "<p>4813 rows × 9 columns</p>\n",
       "</div>"
      ],
      "text/plain": [
       "      origin_id    origin_label  \\\n",
       "0            29  legal guardian   \n",
       "1            29  legal guardian   \n",
       "2            29  legal guardian   \n",
       "3            29  legal guardian   \n",
       "4            29  legal guardian   \n",
       "...         ...             ...   \n",
       "4808       2937     demographer   \n",
       "4809       2937     demographer   \n",
       "4810       2937     demographer   \n",
       "4811       2937     demographer   \n",
       "4812       2937     demographer   \n",
       "\n",
       "                                     origin_description  destination_id  \\\n",
       "0     Legal guardians legally assist and support min...            2867   \n",
       "1     Legal guardians legally assist and support min...            1036   \n",
       "2     Legal guardians legally assist and support min...            2877   \n",
       "3     Legal guardians legally assist and support min...            2654   \n",
       "4     Legal guardians legally assist and support min...            1803   \n",
       "...                                                 ...             ...   \n",
       "4808  Demographers study a variety of parameters rel...             460   \n",
       "4809  Demographers study a variety of parameters rel...            2885   \n",
       "4810  Demographers study a variety of parameters rel...            1239   \n",
       "4811  Demographers study a variety of parameters rel...            1610   \n",
       "4812  Demographers study a variety of parameters rel...            2092   \n",
       "\n",
       "                                     destination_label  \\\n",
       "0                               recreational therapist   \n",
       "1                                    social counsellor   \n",
       "2                                     social pedagogue   \n",
       "3     employment and vocational integration consultant   \n",
       "4                    special educational needs teacher   \n",
       "...                                                ...   \n",
       "4808                                    data scientist   \n",
       "4809                           user experience analyst   \n",
       "4810                           market research analyst   \n",
       "4811                                      mineralogist   \n",
       "4812                                database developer   \n",
       "\n",
       "                                destination_description  \\\n",
       "0     Recreational therapists offer treatment to per...   \n",
       "1     Social counsellors provide support and guidanc...   \n",
       "2     Social pedagogues provide care, support, and e...   \n",
       "3     Employment and vocational integration consulta...   \n",
       "4     Special educational needs teachers work with a...   \n",
       "...                                                 ...   \n",
       "4808  Data scientists find and interpret rich data s...   \n",
       "4809  User experience analysts assess client interac...   \n",
       "4810  Market research analysts collect the informati...   \n",
       "4811  Mineralogists study the composition, structure...   \n",
       "4812  Database developers program, implement and coo...   \n",
       "\n",
       "                               perfectly_matched_skills  \\\n",
       "0                                       listen actively   \n",
       "1     listen actively; maintain the trust of service...   \n",
       "2     apply person-centred care; support children's ...   \n",
       "3      give advice on personal matters; listen actively   \n",
       "4     disability care; assess the development of you...   \n",
       "...                                                 ...   \n",
       "4808  execute analytical mathematical calculations; ...   \n",
       "4809                                                      \n",
       "4810                perform market research; statistics   \n",
       "4811  scientific research methodology; apply scienti...   \n",
       "4812                                                      \n",
       "\n",
       "                               partially_matched_skills  \\\n",
       "0                                                         \n",
       "1     encourage counselled clients to examine themse...   \n",
       "2     support the positiveness of youths; adolescent...   \n",
       "3     facilitate job market access; develop course o...   \n",
       "4     assist children with special needs in educatio...   \n",
       "...                                                 ...   \n",
       "4808  design database scheme; data mining; interpret...   \n",
       "4809  report analysis results; conduct quantitative ...   \n",
       "4810                                                      \n",
       "4811  process data; operate scientific measuring equ...   \n",
       "4812  database development tools; report analysis re...   \n",
       "\n",
       "                                       unmatched_skills  \n",
       "0     maintain healthcare user data confidentiality;...  \n",
       "1     reflexion; perform therapy sessions; demonstra...  \n",
       "2     undertake continuous professional development ...  \n",
       "3     observe confidentiality; communicate by teleph...  \n",
       "4     special needs learning equipment; observe stud...  \n",
       "...                                                 ...  \n",
       "4808  normalise data; information extraction; resour...  \n",
       "4809  measure customer feedback; human-computer inte...  \n",
       "4810  marketing mix; analyse consumer buying trends;...  \n",
       "4811  operate microscope; implement mineral processe...  \n",
       "4812  perform backups; database management systems; ...  \n",
       "\n",
       "[4813 rows x 9 columns]"
      ]
     },
     "execution_count": 47,
     "metadata": {},
     "output_type": "execute_result"
    }
   ],
   "source": [
    "output_df"
   ]
  },
  {
   "cell_type": "markdown",
   "metadata": {},
   "source": [
    "## 1.3 Export"
   ]
  },
  {
   "cell_type": "code",
   "execution_count": 48,
   "metadata": {},
   "outputs": [],
   "source": [
    "output_df.to_csv(outputs_folder + file_name, index=False)\n"
   ]
  },
  {
   "cell_type": "code",
   "execution_count": 49,
   "metadata": {},
   "outputs": [
    {
     "data": {
      "text/plain": [
       "4813"
      ]
     },
     "execution_count": 49,
     "metadata": {},
     "output_type": "execute_result"
    }
   ],
   "source": [
    "len(output_df)"
   ]
  },
  {
   "cell_type": "code",
   "execution_count": 50,
   "metadata": {},
   "outputs": [
    {
     "name": "stdout",
     "output_type": "stream",
     "text": [
      "<class 'pandas.core.frame.DataFrame'>\n",
      "Int64Index: 4813 entries, 0 to 4812\n",
      "Data columns (total 9 columns):\n",
      " #   Column                    Non-Null Count  Dtype \n",
      "---  ------                    --------------  ----- \n",
      " 0   origin_id                 4813 non-null   int64 \n",
      " 1   origin_label              4813 non-null   object\n",
      " 2   origin_description        4813 non-null   object\n",
      " 3   destination_id            4813 non-null   int64 \n",
      " 4   destination_label         4813 non-null   object\n",
      " 5   destination_description   4813 non-null   object\n",
      " 6   perfectly_matched_skills  4813 non-null   object\n",
      " 7   partially_matched_skills  4813 non-null   object\n",
      " 8   unmatched_skills          4813 non-null   object\n",
      "dtypes: int64(2), object(7)\n",
      "memory usage: 376.0+ KB\n"
     ]
    }
   ],
   "source": [
    "output_df.info()"
   ]
  },
  {
   "cell_type": "markdown",
   "metadata": {},
   "source": [
    "## 1.4 Sanity check"
   ]
  },
  {
   "cell_type": "code",
   "execution_count": 51,
   "metadata": {},
   "outputs": [
    {
     "data": {
      "text/html": [
       "<div>\n",
       "<style scoped>\n",
       "    .dataframe tbody tr th:only-of-type {\n",
       "        vertical-align: middle;\n",
       "    }\n",
       "\n",
       "    .dataframe tbody tr th {\n",
       "        vertical-align: top;\n",
       "    }\n",
       "\n",
       "    .dataframe thead th {\n",
       "        text-align: right;\n",
       "    }\n",
       "</style>\n",
       "<table border=\"1\" class=\"dataframe\">\n",
       "  <thead>\n",
       "    <tr style=\"text-align: right;\">\n",
       "      <th></th>\n",
       "      <th>origin_id</th>\n",
       "      <th>origin_label</th>\n",
       "      <th>origin_description</th>\n",
       "      <th>destination_id</th>\n",
       "      <th>destination_label</th>\n",
       "      <th>destination_description</th>\n",
       "      <th>perfectly_matched_skills</th>\n",
       "      <th>partially_matched_skills</th>\n",
       "      <th>unmatched_skills</th>\n",
       "    </tr>\n",
       "  </thead>\n",
       "  <tbody>\n",
       "    <tr>\n",
       "      <th>2277</th>\n",
       "      <td>1348</td>\n",
       "      <td>ground steward/ground stewardess</td>\n",
       "      <td>Ground stewards and ground stewardesses assist...</td>\n",
       "      <td>732</td>\n",
       "      <td>hotel porter</td>\n",
       "      <td>Hotel porters welcome guests to accommodation ...</td>\n",
       "      <td>assist clients with special needs; maintain cu...</td>\n",
       "      <td>handle delivered packages</td>\n",
       "      <td>comply with food safety and hygiene; greet gue...</td>\n",
       "    </tr>\n",
       "  </tbody>\n",
       "</table>\n",
       "</div>"
      ],
      "text/plain": [
       "      origin_id                      origin_label  \\\n",
       "2277       1348  ground steward/ground stewardess   \n",
       "\n",
       "                                     origin_description  destination_id  \\\n",
       "2277  Ground stewards and ground stewardesses assist...             732   \n",
       "\n",
       "     destination_label                            destination_description  \\\n",
       "2277      hotel porter  Hotel porters welcome guests to accommodation ...   \n",
       "\n",
       "                               perfectly_matched_skills  \\\n",
       "2277  assist clients with special needs; maintain cu...   \n",
       "\n",
       "       partially_matched_skills  \\\n",
       "2277  handle delivered packages   \n",
       "\n",
       "                                       unmatched_skills  \n",
       "2277  comply with food safety and hygiene; greet gue...  "
      ]
     },
     "execution_count": 51,
     "metadata": {},
     "output_type": "execute_result"
    }
   ],
   "source": [
    "output_df_sample = output_df.sample()\n",
    "output_df_sample"
   ]
  },
  {
   "cell_type": "code",
   "execution_count": 52,
   "metadata": {},
   "outputs": [
    {
     "name": "stdout",
     "output_type": "stream",
     "text": [
      "['assist clients with special needs', ' maintain customer service']\n",
      "---\n",
      "['handle delivered packages']\n",
      "---\n",
      "['comply with food safety and hygiene', ' greet guests', ' handle guest luggage']\n"
     ]
    }
   ],
   "source": [
    "print(output_df_sample.perfectly_matched_skills.iloc[0].split(';'))\n",
    "print('---')\n",
    "print(output_df_sample.partially_matched_skills.iloc[0].split(';'))\n",
    "print('---')\n",
    "print(output_df_sample.unmatched_skills.iloc[0].split(';'))"
   ]
  },
  {
   "cell_type": "code",
   "execution_count": 53,
   "metadata": {},
   "outputs": [
    {
     "name": "stdout",
     "output_type": "stream",
     "text": [
      "from ground steward/ground stewardess to hotel porter\n",
      "--------\n",
      "6/6 destination skills matched\n",
      "NLP-adjusted overlap = 0.34 (total combined similarity: 0.37)\n"
     ]
    },
    {
     "data": {
      "text/html": [
       "<div>\n",
       "<style scoped>\n",
       "    .dataframe tbody tr th:only-of-type {\n",
       "        vertical-align: middle;\n",
       "    }\n",
       "\n",
       "    .dataframe tbody tr th {\n",
       "        vertical-align: top;\n",
       "    }\n",
       "\n",
       "    .dataframe thead th {\n",
       "        text-align: right;\n",
       "    }\n",
       "</style>\n",
       "<table border=\"1\" class=\"dataframe\">\n",
       "  <thead>\n",
       "    <tr style=\"text-align: right;\">\n",
       "      <th></th>\n",
       "      <th>origin_skill_id</th>\n",
       "      <th>origin_skill</th>\n",
       "      <th>destination_skill_id</th>\n",
       "      <th>destination_skill</th>\n",
       "      <th>similarity</th>\n",
       "      <th>score</th>\n",
       "    </tr>\n",
       "  </thead>\n",
       "  <tbody>\n",
       "    <tr>\n",
       "      <th>0</th>\n",
       "      <td>9640</td>\n",
       "      <td>assist clients with special needs</td>\n",
       "      <td>9640</td>\n",
       "      <td>assist clients with special needs</td>\n",
       "      <td>1.000000</td>\n",
       "      <td>0.998</td>\n",
       "    </tr>\n",
       "    <tr>\n",
       "      <th>1</th>\n",
       "      <td>6288</td>\n",
       "      <td>maintain customer service</td>\n",
       "      <td>6288</td>\n",
       "      <td>maintain customer service</td>\n",
       "      <td>1.000000</td>\n",
       "      <td>0.998</td>\n",
       "    </tr>\n",
       "    <tr>\n",
       "      <th>2</th>\n",
       "      <td>2818</td>\n",
       "      <td>process booking</td>\n",
       "      <td>11855</td>\n",
       "      <td>handle delivered packages</td>\n",
       "      <td>0.805327</td>\n",
       "      <td>0.038</td>\n",
       "    </tr>\n",
       "    <tr>\n",
       "      <th>3</th>\n",
       "      <td>3880</td>\n",
       "      <td>assist VIP guests</td>\n",
       "      <td>13054</td>\n",
       "      <td>handle guest luggage</td>\n",
       "      <td>0.738448</td>\n",
       "      <td>0.001</td>\n",
       "    </tr>\n",
       "    <tr>\n",
       "      <th>4</th>\n",
       "      <td>3988</td>\n",
       "      <td>manage the customer experience</td>\n",
       "      <td>2052</td>\n",
       "      <td>greet guests</td>\n",
       "      <td>0.724222</td>\n",
       "      <td>0.001</td>\n",
       "    </tr>\n",
       "    <tr>\n",
       "      <th>5</th>\n",
       "      <td>1809</td>\n",
       "      <td>maintain relationship with customers</td>\n",
       "      <td>832</td>\n",
       "      <td>comply with food safety and hygiene</td>\n",
       "      <td>0.706303</td>\n",
       "      <td>0.000</td>\n",
       "    </tr>\n",
       "  </tbody>\n",
       "</table>\n",
       "</div>"
      ],
      "text/plain": [
       "   origin_skill_id                          origin_skill  \\\n",
       "0             9640     assist clients with special needs   \n",
       "1             6288             maintain customer service   \n",
       "2             2818                       process booking   \n",
       "3             3880                     assist VIP guests   \n",
       "4             3988        manage the customer experience   \n",
       "5             1809  maintain relationship with customers   \n",
       "\n",
       "   destination_skill_id                    destination_skill  similarity  \\\n",
       "0                  9640    assist clients with special needs    1.000000   \n",
       "1                  6288            maintain customer service    1.000000   \n",
       "2                 11855            handle delivered packages    0.805327   \n",
       "3                 13054                 handle guest luggage    0.738448   \n",
       "4                  2052                         greet guests    0.724222   \n",
       "5                   832  comply with food safety and hygiene    0.706303   \n",
       "\n",
       "   score  \n",
       "0  0.998  \n",
       "1  0.998  \n",
       "2  0.038  \n",
       "3  0.001  \n",
       "4  0.001  \n",
       "5  0.000  "
      ]
     },
     "execution_count": 53,
     "metadata": {},
     "output_type": "execute_result"
    }
   ],
   "source": [
    "trans_utils.show_skills_overlap(output_df_sample.origin_id.values[0],\n",
    "                                output_df_sample.destination_id.values[0],\n",
    "                                data, sim,\n",
    "                                embeddings,\n",
    "                                skills_match='optional',\n",
    "                                verbose=True)\n"
   ]
  },
  {
   "cell_type": "markdown",
   "metadata": {},
   "source": [
    "## 1.5 Check that unmatched skills don't intersect with other skills"
   ]
  },
  {
   "cell_type": "code",
   "execution_count": 506,
   "metadata": {},
   "outputs": [],
   "source": [
    "outputs_df = pd.read_csv('Transitions_for_1715_All_high_risk.csv')"
   ]
  },
  {
   "cell_type": "code",
   "execution_count": 507,
   "metadata": {},
   "outputs": [],
   "source": [
    "outputs_fixed_df = pd.read_csv('Transitions_for_1715_All_high_risk_FIXED.csv')"
   ]
  },
  {
   "cell_type": "code",
   "execution_count": 508,
   "metadata": {},
   "outputs": [
    {
     "name": "stdout",
     "output_type": "stream",
     "text": [
      "manage budgets\n",
      "--\n",
      "ensure inspections of facilities; make health, safety and environment assessments; adhere to organisational guidelines; manage manufacturing facilities; liaise with managers\n",
      "--\n"
     ]
    },
    {
     "data": {
      "text/plain": [
       "'manage space utilisation; electrical power safety regulations; plan buildings maintenance work; supply chain management; ensure equipment availability; plan health and safety procedures; carry out energy management of facilities; monitor contractor performance; supervise work; liaise with managers'"
      ]
     },
     "execution_count": 508,
     "metadata": {},
     "output_type": "execute_result"
    }
   ],
   "source": [
    "j = 2762\n",
    "print(outputs_df.loc[j].perfectly_matched_skills)\n",
    "print('--')\n",
    "print(outputs_df.loc[j].partially_matched_skills)\n",
    "print('--')\n",
    "outputs_df.loc[j].unmatched_skills"
   ]
  },
  {
   "cell_type": "code",
   "execution_count": 509,
   "metadata": {},
   "outputs": [],
   "source": [
    "def check_unmatched_skills(outputs_df):\n",
    "    \n",
    "    wrong_rows = []\n",
    "    total_matched = []\n",
    "\n",
    "    for j, row in outputs_df.iterrows():\n",
    "        if type(row.perfectly_matched_skills)==str:\n",
    "            s1 = [x.strip() for x in row.perfectly_matched_skills.split(';') if x!='']\n",
    "        else:\n",
    "            s1 = set() \n",
    "        if type(row.partially_matched_skills)==str:\n",
    "            s2 = [x.strip() for x in row.partially_matched_skills.split(';') if x!='']\n",
    "        else:\n",
    "            s2 = set()\n",
    "        if type(row.unmatched_skills)==str:\n",
    "            s3 = [x.strip() for x in row.unmatched_skills.split(';') if x!='']\n",
    "        else:\n",
    "            s3 = set()    \n",
    "        wrong_rows.append(len(set(s1).union(set(s2)).intersection(set(s3))))\n",
    "    #     total_matched.append(len(s1) + len(s2))\n",
    "    \n",
    "    outputs_df_wrong = outputs_df.copy()\n",
    "    outputs_df_wrong['n_wrong'] = wrong_rows\n",
    "    return outputs_df_wrong\n",
    "    "
   ]
  },
  {
   "cell_type": "code",
   "execution_count": 510,
   "metadata": {},
   "outputs": [
    {
     "name": "stdout",
     "output_type": "stream",
     "text": [
      "1869\n",
      "0\n"
     ]
    }
   ],
   "source": [
    "outputs_df_wrong = check_unmatched_skills(outputs_df)\n",
    "print(np.sum(outputs_df_wrong.n_wrong!=0))\n",
    "\n",
    "df = check_unmatched_skills(outputs_fixed_df)\n",
    "print(np.sum(df.n_wrong!=0))"
   ]
  },
  {
   "cell_type": "code",
   "execution_count": 511,
   "metadata": {},
   "outputs": [
    {
     "data": {
      "image/png": "[encoded data removed]",
      "text/plain": [
       "<Figure size 432x288 with 1 Axes>"
      ]
     },
     "metadata": {
      "needs_background": "light"
     },
     "output_type": "display_data"
    }
   ],
   "source": [
    "sns.distplot(outputs_df_wrong.n_wrong,kde=False)\n",
    "plt.show()"
   ]
  },
  {
   "cell_type": "code",
   "execution_count": 512,
   "metadata": {},
   "outputs": [],
   "source": [
    "# sns.distplot(outputs_df[outputs_df_wrong.n_wrong==0].similarity, kde=True)\n",
    "# sns.distplot(outputs_df[outputs_df_wrong.n_wrong!=0].similarity, kde=True)\n",
    "# plt.show()"
   ]
  },
  {
   "cell_type": "code",
   "execution_count": 513,
   "metadata": {},
   "outputs": [],
   "source": [
    "outputs_df_wrong['CORRECT'] = False\n",
    "outputs_df_wrong.loc[outputs_df_wrong.n_wrong==0, 'CORRECT'] = True"
   ]
  },
  {
   "cell_type": "code",
   "execution_count": 514,
   "metadata": {},
   "outputs": [],
   "source": [
    "df = outputs_df_wrong.copy()\n",
    "df = df[['origin_id', 'origin_label', 'destination_id', 'destination_label', 'CORRECT']]\n",
    "# df = df.drop('n_wrong', axis=1)\n",
    "df.to_csv('Transitions_for_1715_All_high_risk_HIGHLIGHTED.csv', index=False)"
   ]
  },
  {
   "cell_type": "code",
   "execution_count": 515,
   "metadata": {},
   "outputs": [
    {
     "data": {
      "text/plain": [
       "1869"
      ]
     },
     "execution_count": 515,
     "metadata": {},
     "output_type": "execute_result"
    }
   ],
   "source": [
    "(outputs_df_wrong['CORRECT']==False).sum()"
   ]
  },
  {
   "cell_type": "markdown",
   "metadata": {},
   "source": [
    "### Data to re-validate"
   ]
  },
  {
   "cell_type": "code",
   "execution_count": 442,
   "metadata": {},
   "outputs": [
    {
     "data": {
      "text/plain": [
       "1869"
      ]
     },
     "execution_count": 442,
     "metadata": {},
     "output_type": "execute_result"
    }
   ],
   "source": [
    "data_to_revalidate = outputs_fixed_df[outputs_df_wrong.n_wrong!=0]\n",
    "len(data_to_revalidate)"
   ]
  },
  {
   "cell_type": "code",
   "execution_count": 443,
   "metadata": {},
   "outputs": [],
   "source": [
    "data_to_revalidate.to_csv('Transitions_for_1715_All_high_risk_REVALIDATE.csv', index=False)"
   ]
  },
  {
   "cell_type": "code",
   "execution_count": 444,
   "metadata": {},
   "outputs": [
    {
     "data": {
      "text/html": [
       "<div>\n",
       "<style scoped>\n",
       "    .dataframe tbody tr th:only-of-type {\n",
       "        vertical-align: middle;\n",
       "    }\n",
       "\n",
       "    .dataframe tbody tr th {\n",
       "        vertical-align: top;\n",
       "    }\n",
       "\n",
       "    .dataframe thead th {\n",
       "        text-align: right;\n",
       "    }\n",
       "</style>\n",
       "<table border=\"1\" class=\"dataframe\">\n",
       "  <thead>\n",
       "    <tr style=\"text-align: right;\">\n",
       "      <th></th>\n",
       "      <th>origin_id</th>\n",
       "      <th>origin_label</th>\n",
       "      <th>origin_description</th>\n",
       "      <th>destination_id</th>\n",
       "      <th>destination_label</th>\n",
       "      <th>destination_description</th>\n",
       "      <th>perfectly_matched_skills</th>\n",
       "      <th>partially_matched_skills</th>\n",
       "      <th>unmatched_skills</th>\n",
       "      <th>n_wrong</th>\n",
       "    </tr>\n",
       "  </thead>\n",
       "  <tbody>\n",
       "    <tr>\n",
       "      <th>4594</th>\n",
       "      <td>2878</td>\n",
       "      <td>metrologist</td>\n",
       "      <td>Metrologists study and practice the science of...</td>\n",
       "      <td>953</td>\n",
       "      <td>political scientist</td>\n",
       "      <td>Political scientists study political behaviour...</td>\n",
       "      <td>apply scientific methods; scientific research ...</td>\n",
       "      <td>report analysis results</td>\n",
       "      <td>government policy; government policy implement...</td>\n",
       "      <td>3</td>\n",
       "    </tr>\n",
       "    <tr>\n",
       "      <th>3544</th>\n",
       "      <td>2027</td>\n",
       "      <td>medical sales representative</td>\n",
       "      <td>Medical sales representatives promote and sell...</td>\n",
       "      <td>1746</td>\n",
       "      <td>travel agency manager</td>\n",
       "      <td>Travel agency managers are in charge of managi...</td>\n",
       "      <td>manage budgets; perform market research</td>\n",
       "      <td>implement marketing strategies; negotiate supp...</td>\n",
       "      <td>monitor financial accounts; maximise sales rev...</td>\n",
       "      <td>0</td>\n",
       "    </tr>\n",
       "    <tr>\n",
       "      <th>1727</th>\n",
       "      <td>1067</td>\n",
       "      <td>insurance agency manager</td>\n",
       "      <td>Insurance agency managers coordinate and overs...</td>\n",
       "      <td>2167</td>\n",
       "      <td>business developer</td>\n",
       "      <td>\\nBusiness developers strive to improve the ma...</td>\n",
       "      <td>financial analysis; liaise with managers</td>\n",
       "      <td>apply business acumen; business analysis; stud...</td>\n",
       "      <td>expand store regional presence; carry out sale...</td>\n",
       "      <td>5</td>\n",
       "    </tr>\n",
       "    <tr>\n",
       "      <th>2378</th>\n",
       "      <td>1426</td>\n",
       "      <td>orthoptist</td>\n",
       "      <td>Orthoptists diagnose and treat anomalies of bi...</td>\n",
       "      <td>1049</td>\n",
       "      <td>clinical perfusion scientist</td>\n",
       "      <td>Clinical perfusion scientists operate heart-l...</td>\n",
       "      <td>apply health sciences; communicate effectively...</td>\n",
       "      <td>NaN</td>\n",
       "      <td>clinical perfusion; resuscitation; operate bre...</td>\n",
       "      <td>3</td>\n",
       "    </tr>\n",
       "    <tr>\n",
       "      <th>2213</th>\n",
       "      <td>1290</td>\n",
       "      <td>office clerk</td>\n",
       "      <td>Office clerks are responsible for performing c...</td>\n",
       "      <td>1011</td>\n",
       "      <td>advertising assistant</td>\n",
       "      <td>Advertising assistants provide support in all ...</td>\n",
       "      <td>file documents; use different communication ch...</td>\n",
       "      <td>identify customer's needs; use IT tools</td>\n",
       "      <td>develop creative ideas; advertising techniques...</td>\n",
       "      <td>4</td>\n",
       "    </tr>\n",
       "  </tbody>\n",
       "</table>\n",
       "</div>"
      ],
      "text/plain": [
       "      origin_id                  origin_label  \\\n",
       "4594       2878                   metrologist   \n",
       "3544       2027  medical sales representative   \n",
       "1727       1067      insurance agency manager   \n",
       "2378       1426                    orthoptist   \n",
       "2213       1290                  office clerk   \n",
       "\n",
       "                                     origin_description  destination_id  \\\n",
       "4594  Metrologists study and practice the science of...             953   \n",
       "3544  Medical sales representatives promote and sell...            1746   \n",
       "1727  Insurance agency managers coordinate and overs...            2167   \n",
       "2378  Orthoptists diagnose and treat anomalies of bi...            1049   \n",
       "2213  Office clerks are responsible for performing c...            1011   \n",
       "\n",
       "                 destination_label  \\\n",
       "4594           political scientist   \n",
       "3544         travel agency manager   \n",
       "1727            business developer   \n",
       "2378  clinical perfusion scientist   \n",
       "2213         advertising assistant   \n",
       "\n",
       "                                destination_description  \\\n",
       "4594  Political scientists study political behaviour...   \n",
       "3544  Travel agency managers are in charge of managi...   \n",
       "1727  \\nBusiness developers strive to improve the ma...   \n",
       "2378   Clinical perfusion scientists operate heart-l...   \n",
       "2213  Advertising assistants provide support in all ...   \n",
       "\n",
       "                               perfectly_matched_skills  \\\n",
       "4594  apply scientific methods; scientific research ...   \n",
       "3544            manage budgets; perform market research   \n",
       "1727           financial analysis; liaise with managers   \n",
       "2378  apply health sciences; communicate effectively...   \n",
       "2213  file documents; use different communication ch...   \n",
       "\n",
       "                               partially_matched_skills  \\\n",
       "4594                            report analysis results   \n",
       "3544  implement marketing strategies; negotiate supp...   \n",
       "1727  apply business acumen; business analysis; stud...   \n",
       "2378                                                NaN   \n",
       "2213            identify customer's needs; use IT tools   \n",
       "\n",
       "                                       unmatched_skills  n_wrong  \n",
       "4594  government policy; government policy implement...        3  \n",
       "3544  monitor financial accounts; maximise sales rev...        0  \n",
       "1727  expand store regional presence; carry out sale...        5  \n",
       "2378  clinical perfusion; resuscitation; operate bre...        3  \n",
       "2213  develop creative ideas; advertising techniques...        4  "
      ]
     },
     "execution_count": 444,
     "metadata": {},
     "output_type": "execute_result"
    }
   ],
   "source": [
    "outputs_df_wrong.sample(5)"
   ]
  },
  {
   "cell_type": "code",
   "execution_count": 455,
   "metadata": {},
   "outputs": [
    {
     "name": "stdout",
     "output_type": "stream",
     "text": [
      "manage budgets\n",
      "--\n",
      "ensure inspections of facilities; make health, safety and environment assessments; adhere to organisational guidelines; manage manufacturing facilities; liaise with managers\n",
      "--\n"
     ]
    },
    {
     "data": {
      "text/plain": [
       "'manage space utilisation; electrical power safety regulations; plan buildings maintenance work; supply chain management; ensure equipment availability; plan health and safety procedures; carry out energy management of facilities; monitor contractor performance; supervise work'"
      ]
     },
     "execution_count": 455,
     "metadata": {},
     "output_type": "execute_result"
    }
   ],
   "source": [
    "j = 2762\n",
    "print(data_to_revalidate.loc[j].perfectly_matched_skills)\n",
    "print('--')\n",
    "print(data_to_revalidate.loc[j].partially_matched_skills)\n",
    "print('--')\n",
    "data_to_revalidate.loc[j].unmatched_skills"
   ]
  },
  {
   "cell_type": "markdown",
   "metadata": {},
   "source": [
    "# 2. Second batch of transitions for validation\n",
    "\n",
    "For the second batch, we take a\n",
    "1. Uniform sample of 500 'control' transitions, that have the overall similarity between 0.0 and 0.25\n",
    "2. Uniform sample of 3800 transitions that have similarity between 0.25 and 1.0\n",
    "\n",
    "Of course, we make sure that the previously tested transitions are not included in this dataset."
   ]
  },
  {
   "cell_type": "code",
   "execution_count": 456,
   "metadata": {},
   "outputs": [],
   "source": [
    "THRESH = 0.25\n",
    "N_LOWER = 500\n",
    "N_HIGHER = 3800"
   ]
  },
  {
   "cell_type": "markdown",
   "metadata": {},
   "source": [
    "## 2.1 Setup\n",
    "\n",
    "### 2.1.1 For reference, load the first batch of validation data"
   ]
  },
  {
   "cell_type": "code",
   "execution_count": 516,
   "metadata": {},
   "outputs": [
    {
     "data": {
      "text/html": [
       "<div>\n",
       "<style scoped>\n",
       "    .dataframe tbody tr th:only-of-type {\n",
       "        vertical-align: middle;\n",
       "    }\n",
       "\n",
       "    .dataframe tbody tr th {\n",
       "        vertical-align: top;\n",
       "    }\n",
       "\n",
       "    .dataframe thead th {\n",
       "        text-align: right;\n",
       "    }\n",
       "</style>\n",
       "<table border=\"1\" class=\"dataframe\">\n",
       "  <thead>\n",
       "    <tr style=\"text-align: right;\">\n",
       "      <th></th>\n",
       "      <th>origin_id</th>\n",
       "      <th>origin_label</th>\n",
       "      <th>origin_description</th>\n",
       "      <th>destination_id</th>\n",
       "      <th>destination_label</th>\n",
       "      <th>destination_description</th>\n",
       "      <th>perfectly_matched_skills</th>\n",
       "      <th>partially_matched_skills</th>\n",
       "      <th>unmatched_skills</th>\n",
       "    </tr>\n",
       "  </thead>\n",
       "  <tbody>\n",
       "    <tr>\n",
       "      <th>0</th>\n",
       "      <td>29</td>\n",
       "      <td>legal guardian</td>\n",
       "      <td>Legal guardians legally assist and support min...</td>\n",
       "      <td>2867</td>\n",
       "      <td>recreational therapist</td>\n",
       "      <td>Recreational therapists offer treatment to per...</td>\n",
       "      <td>listen actively</td>\n",
       "      <td>NaN</td>\n",
       "      <td>maintain healthcare user data confidentiality;...</td>\n",
       "    </tr>\n",
       "    <tr>\n",
       "      <th>1</th>\n",
       "      <td>29</td>\n",
       "      <td>legal guardian</td>\n",
       "      <td>Legal guardians legally assist and support min...</td>\n",
       "      <td>1036</td>\n",
       "      <td>social counsellor</td>\n",
       "      <td>Social counsellors provide support and guidanc...</td>\n",
       "      <td>listen actively; maintain the trust of service...</td>\n",
       "      <td>encourage counselled clients to examine themse...</td>\n",
       "      <td>reflexion; perform therapy sessions; demonstra...</td>\n",
       "    </tr>\n",
       "  </tbody>\n",
       "</table>\n",
       "</div>"
      ],
      "text/plain": [
       "   origin_id    origin_label  \\\n",
       "0         29  legal guardian   \n",
       "1         29  legal guardian   \n",
       "\n",
       "                                  origin_description  destination_id  \\\n",
       "0  Legal guardians legally assist and support min...            2867   \n",
       "1  Legal guardians legally assist and support min...            1036   \n",
       "\n",
       "        destination_label                            destination_description  \\\n",
       "0  recreational therapist  Recreational therapists offer treatment to per...   \n",
       "1       social counsellor  Social counsellors provide support and guidanc...   \n",
       "\n",
       "                            perfectly_matched_skills  \\\n",
       "0                                    listen actively   \n",
       "1  listen actively; maintain the trust of service...   \n",
       "\n",
       "                            partially_matched_skills  \\\n",
       "0                                                NaN   \n",
       "1  encourage counselled clients to examine themse...   \n",
       "\n",
       "                                    unmatched_skills  \n",
       "0  maintain healthcare user data confidentiality;...  \n",
       "1  reflexion; perform therapy sessions; demonstra...  "
      ]
     },
     "execution_count": 516,
     "metadata": {},
     "output_type": "execute_result"
    }
   ],
   "source": [
    "# Load the previous batch of transitions\n",
    "first_batch = pd.read_csv('Transitions_for_1715_All_high_risk_FIXED.csv')\n",
    "first_batch.head(2)"
   ]
  },
  {
   "cell_type": "code",
   "execution_count": 517,
   "metadata": {},
   "outputs": [
    {
     "data": {
      "text/plain": [
       "4813"
      ]
     },
     "execution_count": 517,
     "metadata": {},
     "output_type": "execute_result"
    }
   ],
   "source": [
    "# First batch pairs\n",
    "first_batch_pairs = []\n",
    "for j, row in first_batch.iterrows():\n",
    "    first_batch_pairs.append((row.origin_id, row.destination_id))\n",
    "len(first_batch_pairs)   "
   ]
  },
  {
   "cell_type": "markdown",
   "metadata": {},
   "source": [
    "### 2.1.2 Prepare similarity matrix"
   ]
  },
  {
   "cell_type": "code",
   "execution_count": 459,
   "metadata": {},
   "outputs": [
    {
     "data": {
      "text/plain": [
       "1627"
      ]
     },
     "execution_count": 459,
     "metadata": {},
     "output_type": "execute_result"
    }
   ],
   "source": [
    "# Get the IDs of the occupations that we analysed in the report\n",
    "top_occ_analysed = data.occ_top[-data.occ_top.risk.isnull()].id.to_list()\n",
    "len(top_occ_analysed)\n",
    "\n",
    "# Get the similarity matrix\n",
    "W = sim.W_combined[top_occ_analysed, :].copy()\n",
    "W = W[:, top_occ_analysed]\n",
    "W.shape"
   ]
  },
  {
   "cell_type": "markdown",
   "metadata": {},
   "source": [
    "### 2.1.3 Helper functions"
   ]
  },
  {
   "cell_type": "code",
   "execution_count": 461,
   "metadata": {},
   "outputs": [],
   "source": [
    "# Filter matrix for removing the pairs that were already tested from the sampling pool\n",
    "F_first_batch = np.ones(W.shape)\n",
    "for i, pair in enumerate(first_batch_pairs):\n",
    "    x = np.where(np.array(top_occ_analysed)==pair[0])[0]\n",
    "    y = np.where(np.array(top_occ_analysed)==pair[1])[0]\n",
    "    if (len(x) != 0) & (len(y)!=0):\n",
    "        F_first_batch[x[0], y[0]] = 0   \n",
    "F_first_batch = F_first_batch==1"
   ]
  },
  {
   "cell_type": "code",
   "execution_count": 462,
   "metadata": {},
   "outputs": [],
   "source": [
    "# Boolean matrix for exluding self-transitions\n",
    "not_self = (np.ones(W.shape) - np.identity(W.shape[0])) == 1"
   ]
  },
  {
   "cell_type": "code",
   "execution_count": 463,
   "metadata": {},
   "outputs": [],
   "source": [
    "def get_transitions_dataframe(x):\n",
    "    \n",
    "    \"\"\" x is a boolean matrix, e.g. W < THRESH \"\"\"\n",
    "    all_samples = np.where(x & F_first_batch)\n",
    "    all_samples_df = pd.DataFrame(data={\n",
    "        'origin': all_samples[0],\n",
    "        'destination': all_samples[1]})\n",
    "    \n",
    "    # Get original IDs\n",
    "    all_samples_df = get_original_ids(all_samples_df)\n",
    "    \n",
    "    return all_samples_df\n",
    "\n",
    "def get_and_check_random_sample(transitions_df, N, random_state=6068):\n",
    "\n",
    "    random_sample = transitions_df.sample(N, random_state=random_state)\n",
    "\n",
    "    # Get the transition pairs\n",
    "    pairs = []\n",
    "    for j, row in random_sample.iterrows():  \n",
    "        pairs.append((row.origin_id, row.destination_id))\n",
    "\n",
    "    # Double-check that these transitions weren't tested in the first batch\n",
    "    pairs_different_from_first = set(pairs).difference(set(first_batch_pairs))\n",
    "    \n",
    "    # Create the final dataframe\n",
    "    final_sample = pd.DataFrame(data = {\n",
    "        'origin_id': [p[0] for p in pairs_different_from_first],\n",
    "        'destination_id': [p[1] for p in pairs_different_from_first]\n",
    "    })\n",
    "    return final_sample\n",
    "\n",
    "def get_original_ids(transitions_df):\n",
    "    transitions_df['origin_id'] = transitions_df['origin'].apply(lambda x: top_occ_analysed[x])\n",
    "    transitions_df['destination_id'] = transitions_df['destination'].apply(lambda x: top_occ_analysed[x])\n",
    "    return transitions_df\n",
    "\n",
    "def get_similarity_values(transitions_df):\n",
    "    sims = []\n",
    "    for j, row in transitions_df.iterrows():\n",
    "        sims.append(sim.W_combined[row.origin_id, row.destination_id])\n",
    "    transitions_df['similarity'] = sims    \n",
    "    return transitions_df\n",
    "\n",
    "def get_samples_from_intervals(bins, N_TOTAL, random_seed=6666):\n",
    "    \n",
    "    # Number of samples for each interval\n",
    "    N_SAMPLE = int(N_TOTAL / (len(bins)-1))\n",
    "    \n",
    "    # Set up random seeds for each interval\n",
    "    np.random.seed(random_seed)\n",
    "    random_states = [np.random.randint(100000) for j in range(len(bins))]\n",
    "    random_samples = pd.DataFrame()\n",
    "\n",
    "    N = 0\n",
    "    for b in range(len(bins)-1):\n",
    "        if b == (len(bins)-2):\n",
    "            N_SAMPLE = N_TOTAL - N        \n",
    "        print(f'{bins[b]:.2f}..{bins[b+1]:.2f}[n={N_SAMPLE}]')\n",
    "\n",
    "        random_sample = get_transitions_dataframe((W >= bins[b]) & (W < bins[b+1]) & not_self)\n",
    "        random_sample = get_and_check_random_sample(random_sample, N_SAMPLE, random_state=random_states[b])\n",
    "        random_samples = random_samples.append(random_sample, ignore_index=True)\n",
    "        N += N_SAMPLE\n",
    "    print(f'END')\n",
    "    random_samples = get_similarity_values(random_samples)\n",
    "    return random_samples\n",
    "\n",
    "def plot_cumulative_dist(x):\n",
    "    x_sorted = np.sort(x)\n",
    "    p = np.array(list(range(0,len(x_sorted)))) / len(x_sorted)\n",
    "    sns.lineplot(y=p, x=x_sorted, linewidth=1.75)\n",
    "    \n",
    "def get_transition_skills(random_samples_all, TEST_MODE, MATCH_THRESHOLD, N_MAX):\n",
    "\n",
    "    pat = re.compile(';')\n",
    "\n",
    "    k = 0\n",
    "    perfect_matches = []\n",
    "    partial_matches = []\n",
    "    skills_gaps = []\n",
    "\n",
    "    for j, row in tqdm(random_samples_all.iterrows(), total=len(random_samples_all)):\n",
    "\n",
    "        # Origin job\n",
    "        job_i = int(row.origin_id)\n",
    "\n",
    "        # Destination job\n",
    "        job_j = int(row.destination_id)\n",
    "\n",
    "        # Get pairwise skills matches\n",
    "        # (Note: this is fairly slow - going forward, we should just generate and store all these tables)\n",
    "        if len(data.occupation_skills(job_j, skill_importance='Essential'))==0:\n",
    "            perfect_matches.append('')\n",
    "            partial_matches.append('')\n",
    "            skills_gaps.append('')        \n",
    "        else:\n",
    "            compare_skills = trans_utils.show_skills_overlap(job_i, job_j, data, sim, embeddings, verbose=False)\n",
    "\n",
    "            # Skills above the \"skills gap\" thershold\n",
    "            matched_skills = compare_skills[compare_skills.similarity > MATCH_THRESHOLD].iloc[0:N_MAX]\n",
    "\n",
    "            # Generate strings with the perfect and partial matches\n",
    "            list_of_skills = [pat.sub('', s) for s in matched_skills[matched_skills.similarity==1].destination_skill.to_list()]\n",
    "            perfect_matches.append(\"; \".join(list_of_skills))\n",
    "            \n",
    "            list_of_skills = [pat.sub('', s) for s in matched_skills[matched_skills.similarity<1].destination_skill.to_list()]            \n",
    "            partial_matches.append(\"; \".join(list_of_skills))\n",
    "     \n",
    "            # Generate string with skills gaps (\"unmatched\" skills)\n",
    "            list_of_skills = [pat.sub('', s) for s in compare_skills[compare_skills.similarity<=MATCH_THRESHOLD].sort_values(\n",
    "                'similarity', ascending=True).reset_index().iloc[0:N_MAX].destination_skill.to_list()]            \n",
    "            skills_gaps.append(\"; \".join(list_of_skills))\n",
    "\n",
    "        k += 1\n",
    "        if TEST_MODE:\n",
    "            if k == 2:\n",
    "                break\n",
    "\n",
    "                \n",
    "    trans_df = random_samples_all.copy()\n",
    "    trans_df = trans_df.merge(data.occupations[['id', 'preferred_label']],\n",
    "                              left_on='origin_id',\n",
    "                              right_on='id', how='left').drop('id', axis=1).rename(columns={'preferred_label': 'origin_label'})\n",
    "    trans_df = trans_df.merge(data.occupations[['id', 'preferred_label']],\n",
    "                              left_on='destination_id',\n",
    "                              right_on='id', how='left').drop('id', axis=1).rename(columns={'preferred_label': 'destination_label'})                \n",
    "    \n",
    "    # Create the final output dataframe\n",
    "    # This is where you can add more information about the transitions if necessary (e.g. similarities)\n",
    "    # Also, you can use merge with data.occ[[..]] to add more descriptors about each occupation\n",
    "    output_df = trans_df[['origin_id', 'origin_label', 'destination_id', 'destination_label',\n",
    "                          'similarity'\n",
    "                         ]].copy()\n",
    "\n",
    "    if TEST_MODE:\n",
    "        output_df = output_df.iloc[0:len(perfect_matches)]\n",
    "\n",
    "    output_df = output_df.merge(data.occupations[['id', 'description']],\n",
    "                                left_on='origin_id', right_on='id', how='left')\n",
    "\n",
    "    output_df = output_df.rename(columns={'description': 'origin_description'})\n",
    "    output_df = output_df.drop('id', axis=1)\n",
    "\n",
    "    output_df = output_df.merge(data.occupations[['id', 'description']],\n",
    "                                left_on='destination_id', right_on='id', how='left')\n",
    "\n",
    "    output_df = output_df.rename(columns={'description': 'destination_description'})\n",
    "    output_df = output_df.drop('id', axis=1)\n",
    "\n",
    "    output_df['perfectly_matched_skills'] = perfect_matches\n",
    "    output_df['partially_matched_skills'] = partial_matches\n",
    "    output_df['unmatched_skills'] = skills_gaps\n",
    "\n",
    "    output_df = output_df[[\n",
    "        'origin_id', 'origin_label', 'origin_description',\n",
    "        'destination_id', 'destination_label', 'destination_description',\n",
    "        'perfectly_matched_skills', 'partially_matched_skills', 'unmatched_skills',\n",
    "        'similarity'\n",
    "    ]]\n",
    "    \n",
    "    return output_df\n",
    "    "
   ]
  },
  {
   "cell_type": "markdown",
   "metadata": {},
   "source": [
    "## 2.2 Get a (roughly) uniform sample across the range\n",
    "\n",
    "### 2.2.1 Low-similarity transitions"
   ]
  },
  {
   "cell_type": "code",
   "execution_count": 464,
   "metadata": {},
   "outputs": [
    {
     "name": "stdout",
     "output_type": "stream",
     "text": [
      "0.00..0.05[n=100]\n",
      "0.05..0.10[n=100]\n",
      "0.10..0.15[n=100]\n",
      "0.15..0.20[n=100]\n",
      "0.20..0.25[n=100]\n",
      "END\n"
     ]
    }
   ],
   "source": [
    "bins = np.linspace(0,0.25,6)\n",
    "random_samples_low = get_samples_from_intervals(bins, N_LOWER, random_seed=231)"
   ]
  },
  {
   "cell_type": "code",
   "execution_count": 465,
   "metadata": {},
   "outputs": [
    {
     "data": {
      "text/html": [
       "<div>\n",
       "<style scoped>\n",
       "    .dataframe tbody tr th:only-of-type {\n",
       "        vertical-align: middle;\n",
       "    }\n",
       "\n",
       "    .dataframe tbody tr th {\n",
       "        vertical-align: top;\n",
       "    }\n",
       "\n",
       "    .dataframe thead th {\n",
       "        text-align: right;\n",
       "    }\n",
       "</style>\n",
       "<table border=\"1\" class=\"dataframe\">\n",
       "  <thead>\n",
       "    <tr style=\"text-align: right;\">\n",
       "      <th></th>\n",
       "      <th>origin_id</th>\n",
       "      <th>destination_id</th>\n",
       "      <th>similarity</th>\n",
       "    </tr>\n",
       "  </thead>\n",
       "  <tbody>\n",
       "    <tr>\n",
       "      <th>0</th>\n",
       "      <td>1037</td>\n",
       "      <td>2701</td>\n",
       "      <td>0.047149</td>\n",
       "    </tr>\n",
       "    <tr>\n",
       "      <th>1</th>\n",
       "      <td>745</td>\n",
       "      <td>1218</td>\n",
       "      <td>0.047853</td>\n",
       "    </tr>\n",
       "    <tr>\n",
       "      <th>2</th>\n",
       "      <td>752</td>\n",
       "      <td>456</td>\n",
       "      <td>0.017100</td>\n",
       "    </tr>\n",
       "    <tr>\n",
       "      <th>3</th>\n",
       "      <td>2269</td>\n",
       "      <td>576</td>\n",
       "      <td>0.041466</td>\n",
       "    </tr>\n",
       "    <tr>\n",
       "      <th>4</th>\n",
       "      <td>1908</td>\n",
       "      <td>876</td>\n",
       "      <td>0.047106</td>\n",
       "    </tr>\n",
       "    <tr>\n",
       "      <th>...</th>\n",
       "      <td>...</td>\n",
       "      <td>...</td>\n",
       "      <td>...</td>\n",
       "    </tr>\n",
       "    <tr>\n",
       "      <th>495</th>\n",
       "      <td>1340</td>\n",
       "      <td>892</td>\n",
       "      <td>0.216534</td>\n",
       "    </tr>\n",
       "    <tr>\n",
       "      <th>496</th>\n",
       "      <td>1393</td>\n",
       "      <td>62</td>\n",
       "      <td>0.202661</td>\n",
       "    </tr>\n",
       "    <tr>\n",
       "      <th>497</th>\n",
       "      <td>15</td>\n",
       "      <td>1173</td>\n",
       "      <td>0.238576</td>\n",
       "    </tr>\n",
       "    <tr>\n",
       "      <th>498</th>\n",
       "      <td>372</td>\n",
       "      <td>2077</td>\n",
       "      <td>0.240933</td>\n",
       "    </tr>\n",
       "    <tr>\n",
       "      <th>499</th>\n",
       "      <td>1882</td>\n",
       "      <td>1259</td>\n",
       "      <td>0.234719</td>\n",
       "    </tr>\n",
       "  </tbody>\n",
       "</table>\n",
       "<p>500 rows × 3 columns</p>\n",
       "</div>"
      ],
      "text/plain": [
       "     origin_id  destination_id  similarity\n",
       "0         1037            2701    0.047149\n",
       "1          745            1218    0.047853\n",
       "2          752             456    0.017100\n",
       "3         2269             576    0.041466\n",
       "4         1908             876    0.047106\n",
       "..         ...             ...         ...\n",
       "495       1340             892    0.216534\n",
       "496       1393              62    0.202661\n",
       "497         15            1173    0.238576\n",
       "498        372            2077    0.240933\n",
       "499       1882            1259    0.234719\n",
       "\n",
       "[500 rows x 3 columns]"
      ]
     },
     "execution_count": 465,
     "metadata": {},
     "output_type": "execute_result"
    }
   ],
   "source": [
    "random_samples_low"
   ]
  },
  {
   "cell_type": "code",
   "execution_count": 466,
   "metadata": {},
   "outputs": [
    {
     "data": {
      "image/png": "[encoded data removed]",
      "text/plain": [
       "<Figure size 432x288 with 1 Axes>"
      ]
     },
     "metadata": {
      "needs_background": "light"
     },
     "output_type": "display_data"
    }
   ],
   "source": [
    "sns.distplot(random_samples_low.similarity, kde=False, bins=15)\n",
    "plt.show()"
   ]
  },
  {
   "cell_type": "code",
   "execution_count": 467,
   "metadata": {},
   "outputs": [
    {
     "data": {
      "image/png": "[encoded data removed]",
      "text/plain": [
       "<Figure size 432x288 with 1 Axes>"
      ]
     },
     "metadata": {
      "needs_background": "light"
     },
     "output_type": "display_data"
    }
   ],
   "source": [
    "plot_cumulative_dist(random_samples_low.similarity.values)\n",
    "plt.show()"
   ]
  },
  {
   "cell_type": "markdown",
   "metadata": {},
   "source": [
    "### 2.2.2 Higher-similarity transitions"
   ]
  },
  {
   "cell_type": "code",
   "execution_count": 468,
   "metadata": {},
   "outputs": [
    {
     "name": "stdout",
     "output_type": "stream",
     "text": [
      "0.25..0.29[n=316]\n",
      "0.29..0.33[n=316]\n",
      "0.33..0.37[n=316]\n",
      "0.37..0.41[n=316]\n",
      "0.41..0.45[n=316]\n",
      "0.45..0.49[n=316]\n",
      "0.49..0.53[n=316]\n",
      "0.53..0.57[n=316]\n",
      "0.57..0.61[n=316]\n",
      "0.61..0.64[n=316]\n",
      "0.64..0.68[n=316]\n",
      "0.68..1.01[n=324]\n",
      "END\n"
     ]
    }
   ],
   "source": [
    "bins = np.linspace(0.25,1,20)\n",
    "bins = np.append(bins[0:-8],[1.01])\n",
    "\n",
    "random_samples_high = get_samples_from_intervals(bins, N_HIGHER, random_seed=6666)"
   ]
  },
  {
   "cell_type": "code",
   "execution_count": 469,
   "metadata": {},
   "outputs": [
    {
     "name": "stdout",
     "output_type": "stream",
     "text": [
      "0..1..2..3..4..5..6..7..8..9..10..11.."
     ]
    }
   ],
   "source": [
    "N_SAMPLE = int(N_HIGHER / (len(bins)-1))\n",
    "np.random.seed(6666)\n",
    "random_states = [np.random.randint(100000) for j in range(len(bins))]\n",
    "\n",
    "random_samples = pd.DataFrame()\n",
    "\n",
    "N_Total = 0\n",
    "for b in range(len(bins)-1):\n",
    "    print(f'{b}..', end='')\n",
    "    if b == (len(bins)-2):\n",
    "        N_SAMPLE = N_HIGHER - N_Total\n",
    "    random_sample = get_transitions_dataframe((W >= bins[b]) & (W < bins[b+1]) & not_self)\n",
    "    random_sample = get_and_check_random_sample(random_sample, N_SAMPLE, random_state=random_states[b])\n",
    "    random_samples = random_samples.append(random_sample, ignore_index=True)\n",
    "    N_Total += N_SAMPLE\n",
    "random_samples = get_similarity_values(random_samples)    "
   ]
  },
  {
   "cell_type": "code",
   "execution_count": 470,
   "metadata": {
    "scrolled": true
   },
   "outputs": [],
   "source": [
    "random_samples_high = random_samples.copy()"
   ]
  },
  {
   "cell_type": "code",
   "execution_count": 471,
   "metadata": {},
   "outputs": [
    {
     "data": {
      "text/plain": [
       "3800"
      ]
     },
     "execution_count": 471,
     "metadata": {},
     "output_type": "execute_result"
    }
   ],
   "source": [
    "len(random_samples_high)"
   ]
  },
  {
   "cell_type": "code",
   "execution_count": 472,
   "metadata": {},
   "outputs": [
    {
     "data": {
      "image/png": "[encoded data removed]",
      "text/plain": [
       "<Figure size 432x288 with 1 Axes>"
      ]
     },
     "metadata": {
      "needs_background": "light"
     },
     "output_type": "display_data"
    }
   ],
   "source": [
    "sns.distplot(random_samples_high.similarity, kde=False)\n",
    "plt.show()"
   ]
  },
  {
   "cell_type": "code",
   "execution_count": 473,
   "metadata": {},
   "outputs": [
    {
     "data": {
      "image/png": "[encoded data removed]",
      "text/plain": [
       "<Figure size 432x288 with 1 Axes>"
      ]
     },
     "metadata": {
      "needs_background": "light"
     },
     "output_type": "display_data"
    }
   ],
   "source": [
    "plot_cumulative_dist(random_samples_high.similarity.values)\n",
    "plt.show()"
   ]
  },
  {
   "cell_type": "markdown",
   "metadata": {},
   "source": [
    "### 2.2.3 Join up both ranges and export"
   ]
  },
  {
   "cell_type": "code",
   "execution_count": 474,
   "metadata": {},
   "outputs": [],
   "source": [
    "random_samples_all = random_samples_high.append(random_samples_low, ignore_index=True)\n",
    "random_samples_all = random_samples_all.sort_values('similarity')"
   ]
  },
  {
   "cell_type": "code",
   "execution_count": 475,
   "metadata": {},
   "outputs": [],
   "source": [
    "# Semantic similarity threshold below which we call the pairwise skill match a skills gap (i.e. \"unmatched\")\n",
    "MATCH_THRESHOLD = 0.80 \n",
    "# Max number of matched skills or \"unmatched\" skills gaps\n",
    "N_MAX = 10\n",
    "# Output file name\n",
    "file_name = 'Transitions_for_1715_BATCH_2.csv'\n",
    "# Test mode generates a couple of transitions\n",
    "TEST_MODE = False\n"
   ]
  },
  {
   "cell_type": "code",
   "execution_count": 476,
   "metadata": {},
   "outputs": [
    {
     "data": {
      "application/vnd.jupyter.widget-view+json": {
       "model_id": "01aa2a296a804922a9aaebdd4b3978f2",
       "version_major": 2,
       "version_minor": 0
      },
      "text/plain": [
       "HBox(children=(FloatProgress(value=0.0, max=4300.0), HTML(value='')))"
      ]
     },
     "metadata": {},
     "output_type": "display_data"
    },
    {
     "name": "stdout",
     "output_type": "stream",
     "text": [
      "\n"
     ]
    }
   ],
   "source": [
    "outputs_uniform = get_transition_skills(random_samples_all, TEST_MODE, MATCH_THRESHOLD, N_MAX)"
   ]
  },
  {
   "cell_type": "markdown",
   "metadata": {},
   "source": [
    "### Sanity check"
   ]
  },
  {
   "cell_type": "code",
   "execution_count": 487,
   "metadata": {},
   "outputs": [],
   "source": [
    "def check_similarity(df):\n",
    "    similarities = []\n",
    "    for j, row in df.iterrows():\n",
    "        similarities.append(sim.W_combined[row.origin_id, row.destination_id])\n",
    "    df_ = df.copy()\n",
    "    df_['similarity2'] = similarities\n",
    "    assert(np.sum(np.abs(df_['similarity2'] - df_['similarity']))==0)\n",
    "    return df_"
   ]
  },
  {
   "cell_type": "code",
   "execution_count": 488,
   "metadata": {},
   "outputs": [
    {
     "name": "stdout",
     "output_type": "stream",
     "text": [
      "0\n"
     ]
    },
    {
     "data": {
      "text/plain": [
       "True"
      ]
     },
     "execution_count": 488,
     "metadata": {},
     "output_type": "execute_result"
    }
   ],
   "source": [
    "df = check_unmatched_skills(outputs_uniform)\n",
    "print(len(df[df.n_wrong!=0]))\n",
    "len(df[df.n_wrong==0]) == len(df)"
   ]
  },
  {
   "cell_type": "code",
   "execution_count": 489,
   "metadata": {},
   "outputs": [],
   "source": [
    "_ = check_similarity(outputs_uniform)"
   ]
  },
  {
   "cell_type": "code",
   "execution_count": 497,
   "metadata": {},
   "outputs": [
    {
     "data": {
      "text/plain": [
       "origin_id                                                                2195\n",
       "origin_label                                                    veneer grader\n",
       "origin_description          Veneer graders inspect slices of veneer for qu...\n",
       "destination_id                                                           2085\n",
       "destination_label                                  product quality controller\n",
       "destination_description     Product quality controllers check the quality ...\n",
       "perfectly_matched_skills    monitor manufacturing quality standards; revis...\n",
       "partially_matched_skills    quality assurance procedures; perform quality ...\n",
       "unmatched_skills            manage health and safety standards; support im...\n",
       "similarity                                                           0.488565\n",
       "Name: 2417, dtype: object"
      ]
     },
     "execution_count": 497,
     "metadata": {},
     "output_type": "execute_result"
    }
   ],
   "source": [
    "output_df_sample = outputs_uniform.loc[np.random.randint(len(outputs_uniform))]\n",
    "output_df_sample"
   ]
  },
  {
   "cell_type": "code",
   "execution_count": 498,
   "metadata": {},
   "outputs": [
    {
     "name": "stdout",
     "output_type": "stream",
     "text": [
      "['monitor manufacturing quality standards', ' revise quality control systems documentation', ' quality standards', ' oversee quality control']\n",
      "---\n",
      "['quality assurance procedures', ' perform quality audits', ' track key performance indicators', ' check quality of products on the production line']\n",
      "---\n",
      "['manage health and safety standards', ' support implementation of quality management systems', ' monitor the production line', ' write inspection reports', ' work in assembly line teams', ' define quality standards', ' quality control systems']\n"
     ]
    }
   ],
   "source": [
    "print(output_df_sample.perfectly_matched_skills.split(';'))\n",
    "print('---')\n",
    "print(output_df_sample.partially_matched_skills.split(';'))\n",
    "print('---')\n",
    "print(output_df_sample.unmatched_skills.split(';'))"
   ]
  },
  {
   "cell_type": "code",
   "execution_count": 499,
   "metadata": {
    "scrolled": true
   },
   "outputs": [
    {
     "name": "stdout",
     "output_type": "stream",
     "text": [
      "from veneer grader to product quality controller\n",
      "--------\n",
      "15/15 destination skills matched\n",
      "NLP-adjusted overlap = 0.36 (total combined similarity: 0.49)\n"
     ]
    },
    {
     "data": {
      "text/html": [
       "<div>\n",
       "<style scoped>\n",
       "    .dataframe tbody tr th:only-of-type {\n",
       "        vertical-align: middle;\n",
       "    }\n",
       "\n",
       "    .dataframe tbody tr th {\n",
       "        vertical-align: top;\n",
       "    }\n",
       "\n",
       "    .dataframe thead th {\n",
       "        text-align: right;\n",
       "    }\n",
       "</style>\n",
       "<table border=\"1\" class=\"dataframe\">\n",
       "  <thead>\n",
       "    <tr style=\"text-align: right;\">\n",
       "      <th></th>\n",
       "      <th>origin_skill_id</th>\n",
       "      <th>origin_skill</th>\n",
       "      <th>destination_skill_id</th>\n",
       "      <th>destination_skill</th>\n",
       "      <th>similarity</th>\n",
       "      <th>score</th>\n",
       "    </tr>\n",
       "  </thead>\n",
       "  <tbody>\n",
       "    <tr>\n",
       "      <th>0</th>\n",
       "      <td>3353</td>\n",
       "      <td>monitor manufacturing quality standards</td>\n",
       "      <td>3353</td>\n",
       "      <td>monitor manufacturing quality standards</td>\n",
       "      <td>1.000000</td>\n",
       "      <td>0.998</td>\n",
       "    </tr>\n",
       "    <tr>\n",
       "      <th>1</th>\n",
       "      <td>5765</td>\n",
       "      <td>revise quality control systems documentation</td>\n",
       "      <td>5765</td>\n",
       "      <td>revise quality control systems documentation</td>\n",
       "      <td>1.000000</td>\n",
       "      <td>0.998</td>\n",
       "    </tr>\n",
       "    <tr>\n",
       "      <th>2</th>\n",
       "      <td>7508</td>\n",
       "      <td>quality standards</td>\n",
       "      <td>7508</td>\n",
       "      <td>quality standards</td>\n",
       "      <td>1.000000</td>\n",
       "      <td>0.998</td>\n",
       "    </tr>\n",
       "    <tr>\n",
       "      <th>3</th>\n",
       "      <td>4966</td>\n",
       "      <td>oversee quality control</td>\n",
       "      <td>4966</td>\n",
       "      <td>oversee quality control</td>\n",
       "      <td>1.000000</td>\n",
       "      <td>0.998</td>\n",
       "    </tr>\n",
       "    <tr>\n",
       "      <th>4</th>\n",
       "      <td>10526</td>\n",
       "      <td>quality assurance methodologies</td>\n",
       "      <td>910</td>\n",
       "      <td>quality assurance procedures</td>\n",
       "      <td>0.890035</td>\n",
       "      <td>0.731</td>\n",
       "    </tr>\n",
       "    <tr>\n",
       "      <th>5</th>\n",
       "      <td>1831</td>\n",
       "      <td>set quality assurance objectives</td>\n",
       "      <td>11376</td>\n",
       "      <td>perform quality audits</td>\n",
       "      <td>0.860425</td>\n",
       "      <td>0.383</td>\n",
       "    </tr>\n",
       "    <tr>\n",
       "      <th>6</th>\n",
       "      <td>4657</td>\n",
       "      <td>meet contract specifications</td>\n",
       "      <td>7529</td>\n",
       "      <td>track key performance indicators</td>\n",
       "      <td>0.845662</td>\n",
       "      <td>0.228</td>\n",
       "    </tr>\n",
       "    <tr>\n",
       "      <th>7</th>\n",
       "      <td>2165</td>\n",
       "      <td>record production data for quality control</td>\n",
       "      <td>4957</td>\n",
       "      <td>check quality of products on the production line</td>\n",
       "      <td>0.817411</td>\n",
       "      <td>0.067</td>\n",
       "    </tr>\n",
       "    <tr>\n",
       "      <th>8</th>\n",
       "      <td>10151</td>\n",
       "      <td>recommend product improvements</td>\n",
       "      <td>11232</td>\n",
       "      <td>quality control systems</td>\n",
       "      <td>0.794928</td>\n",
       "      <td>0.023</td>\n",
       "    </tr>\n",
       "    <tr>\n",
       "      <th>9</th>\n",
       "      <td>160</td>\n",
       "      <td>create solutions to problems</td>\n",
       "      <td>4991</td>\n",
       "      <td>define quality standards</td>\n",
       "      <td>0.783847</td>\n",
       "      <td>0.013</td>\n",
       "    </tr>\n",
       "    <tr>\n",
       "      <th>10</th>\n",
       "      <td>2979</td>\n",
       "      <td>manufacturing processes</td>\n",
       "      <td>6337</td>\n",
       "      <td>work in assembly line teams</td>\n",
       "      <td>0.766600</td>\n",
       "      <td>0.006</td>\n",
       "    </tr>\n",
       "    <tr>\n",
       "      <th>11</th>\n",
       "      <td>10819</td>\n",
       "      <td>prepare samples for testing</td>\n",
       "      <td>10846</td>\n",
       "      <td>write inspection reports</td>\n",
       "      <td>0.730266</td>\n",
       "      <td>0.001</td>\n",
       "    </tr>\n",
       "    <tr>\n",
       "      <th>12</th>\n",
       "      <td>87</td>\n",
       "      <td>manage supplies</td>\n",
       "      <td>8497</td>\n",
       "      <td>monitor the production line</td>\n",
       "      <td>0.718247</td>\n",
       "      <td>0.001</td>\n",
       "    </tr>\n",
       "    <tr>\n",
       "      <th>13</th>\n",
       "      <td>12672</td>\n",
       "      <td>liaise with managers</td>\n",
       "      <td>10796</td>\n",
       "      <td>support implementation of quality management s...</td>\n",
       "      <td>0.684253</td>\n",
       "      <td>0.000</td>\n",
       "    </tr>\n",
       "    <tr>\n",
       "      <th>14</th>\n",
       "      <td>4041</td>\n",
       "      <td>work safely with machines</td>\n",
       "      <td>3651</td>\n",
       "      <td>manage health and safety standards</td>\n",
       "      <td>0.683240</td>\n",
       "      <td>0.000</td>\n",
       "    </tr>\n",
       "  </tbody>\n",
       "</table>\n",
       "</div>"
      ],
      "text/plain": [
       "    origin_skill_id                                  origin_skill  \\\n",
       "0              3353       monitor manufacturing quality standards   \n",
       "1              5765  revise quality control systems documentation   \n",
       "2              7508                             quality standards   \n",
       "3              4966                       oversee quality control   \n",
       "4             10526               quality assurance methodologies   \n",
       "5              1831              set quality assurance objectives   \n",
       "6              4657                  meet contract specifications   \n",
       "7              2165    record production data for quality control   \n",
       "8             10151                recommend product improvements   \n",
       "9               160                  create solutions to problems   \n",
       "10             2979                       manufacturing processes   \n",
       "11            10819                   prepare samples for testing   \n",
       "12               87                               manage supplies   \n",
       "13            12672                          liaise with managers   \n",
       "14             4041                     work safely with machines   \n",
       "\n",
       "    destination_skill_id                                  destination_skill  \\\n",
       "0                   3353            monitor manufacturing quality standards   \n",
       "1                   5765       revise quality control systems documentation   \n",
       "2                   7508                                  quality standards   \n",
       "3                   4966                            oversee quality control   \n",
       "4                    910                       quality assurance procedures   \n",
       "5                  11376                             perform quality audits   \n",
       "6                   7529                   track key performance indicators   \n",
       "7                   4957   check quality of products on the production line   \n",
       "8                  11232                            quality control systems   \n",
       "9                   4991                           define quality standards   \n",
       "10                  6337                        work in assembly line teams   \n",
       "11                 10846                           write inspection reports   \n",
       "12                  8497                        monitor the production line   \n",
       "13                 10796  support implementation of quality management s...   \n",
       "14                  3651                 manage health and safety standards   \n",
       "\n",
       "    similarity  score  \n",
       "0     1.000000  0.998  \n",
       "1     1.000000  0.998  \n",
       "2     1.000000  0.998  \n",
       "3     1.000000  0.998  \n",
       "4     0.890035  0.731  \n",
       "5     0.860425  0.383  \n",
       "6     0.845662  0.228  \n",
       "7     0.817411  0.067  \n",
       "8     0.794928  0.023  \n",
       "9     0.783847  0.013  \n",
       "10    0.766600  0.006  \n",
       "11    0.730266  0.001  \n",
       "12    0.718247  0.001  \n",
       "13    0.684253  0.000  \n",
       "14    0.683240  0.000  "
      ]
     },
     "execution_count": 499,
     "metadata": {},
     "output_type": "execute_result"
    }
   ],
   "source": [
    "trans_utils.show_skills_overlap(output_df_sample.origin_id,\n",
    "                                output_df_sample.destination_id,\n",
    "                                data, sim,\n",
    "                                embeddings,\n",
    "                                skills_match='optional',\n",
    "                                verbose=True)\n"
   ]
  },
  {
   "cell_type": "code",
   "execution_count": 500,
   "metadata": {},
   "outputs": [
    {
     "data": {
      "text/plain": [
       "<matplotlib.axes._subplots.AxesSubplot at 0x7f9a168b3a90>"
      ]
     },
     "execution_count": 500,
     "metadata": {},
     "output_type": "execute_result"
    },
    {
     "data": {
      "image/png": "[encoded data removed]",
      "text/plain": [
       "<Figure size 432x288 with 1 Axes>"
      ]
     },
     "metadata": {
      "needs_background": "light"
     },
     "output_type": "display_data"
    }
   ],
   "source": [
    "sns.distplot(outputs_uniform.similarity, bins=50)"
   ]
  },
  {
   "cell_type": "code",
   "execution_count": 501,
   "metadata": {},
   "outputs": [
    {
     "data": {
      "image/png": "[encoded data removed]",
      "text/plain": [
       "<Figure size 432x288 with 1 Axes>"
      ]
     },
     "metadata": {
      "needs_background": "light"
     },
     "output_type": "display_data"
    }
   ],
   "source": [
    "plot_cumulative_dist(outputs_uniform.similarity.values)\n",
    "plt.show()"
   ]
  },
  {
   "cell_type": "code",
   "execution_count": 502,
   "metadata": {},
   "outputs": [
    {
     "data": {
      "text/html": [
       "<div>\n",
       "<style scoped>\n",
       "    .dataframe tbody tr th:only-of-type {\n",
       "        vertical-align: middle;\n",
       "    }\n",
       "\n",
       "    .dataframe tbody tr th {\n",
       "        vertical-align: top;\n",
       "    }\n",
       "\n",
       "    .dataframe thead th {\n",
       "        text-align: right;\n",
       "    }\n",
       "</style>\n",
       "<table border=\"1\" class=\"dataframe\">\n",
       "  <thead>\n",
       "    <tr style=\"text-align: right;\">\n",
       "      <th></th>\n",
       "      <th>origin_id</th>\n",
       "      <th>origin_label</th>\n",
       "      <th>origin_description</th>\n",
       "      <th>destination_id</th>\n",
       "      <th>destination_label</th>\n",
       "      <th>destination_description</th>\n",
       "      <th>perfectly_matched_skills</th>\n",
       "      <th>partially_matched_skills</th>\n",
       "      <th>unmatched_skills</th>\n",
       "      <th>similarity</th>\n",
       "    </tr>\n",
       "  </thead>\n",
       "  <tbody>\n",
       "    <tr>\n",
       "      <th>1417</th>\n",
       "      <td>867</td>\n",
       "      <td>bindery operator</td>\n",
       "      <td>Bindery operators tend machines that bind prin...</td>\n",
       "      <td>2394</td>\n",
       "      <td>glass beveller</td>\n",
       "      <td>Glass bevellers measure, cut, assemble and ins...</td>\n",
       "      <td>monitor automated machines; ensure equipment a...</td>\n",
       "      <td>monitor gauge; consult technical resources; me...</td>\n",
       "      <td>manipulate glass; cut glass; adjust glass shee...</td>\n",
       "      <td>0.363908</td>\n",
       "    </tr>\n",
       "  </tbody>\n",
       "</table>\n",
       "</div>"
      ],
      "text/plain": [
       "      origin_id      origin_label  \\\n",
       "1417        867  bindery operator   \n",
       "\n",
       "                                     origin_description  destination_id  \\\n",
       "1417  Bindery operators tend machines that bind prin...            2394   \n",
       "\n",
       "     destination_label                            destination_description  \\\n",
       "1417    glass beveller  Glass bevellers measure, cut, assemble and ins...   \n",
       "\n",
       "                               perfectly_matched_skills  \\\n",
       "1417  monitor automated machines; ensure equipment a...   \n",
       "\n",
       "                               partially_matched_skills  \\\n",
       "1417  monitor gauge; consult technical resources; me...   \n",
       "\n",
       "                                       unmatched_skills  similarity  \n",
       "1417  manipulate glass; cut glass; adjust glass shee...    0.363908  "
      ]
     },
     "execution_count": 502,
     "metadata": {},
     "output_type": "execute_result"
    }
   ],
   "source": [
    "outputs_uniform.sample()"
   ]
  },
  {
   "cell_type": "markdown",
   "metadata": {},
   "source": [
    "### Export!"
   ]
  },
  {
   "cell_type": "code",
   "execution_count": 503,
   "metadata": {},
   "outputs": [],
   "source": [
    "outputs_uniform_to_export = outputs_uniform.drop('similarity', axis=1)\n",
    "outputs_uniform_to_export.to_csv(outputs_folder + file_name, index=False)\n"
   ]
  },
  {
   "cell_type": "code",
   "execution_count": null,
   "metadata": {},
   "outputs": [],
   "source": []
  }
 ],
 "metadata": {
  "kernelspec": {
   "display_name": "Python 3",
   "language": "python",
   "name": "python3"
  },
  "language_info": {
   "codemirror_mode": {
    "name": "ipython",
    "version": 3
   },
   "file_extension": ".py",
   "mimetype": "text/x-python",
   "name": "python",
   "nbconvert_exporter": "python",
   "pygments_lexer": "ipython3",
   "version": "3.6.5"
  }
 },
 "nbformat": 4,
 "nbformat_minor": 4
}
